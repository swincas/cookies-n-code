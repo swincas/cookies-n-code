{
 "cells": [
  {
   "cell_type": "markdown",
   "metadata": {},
   "source": [
    "# Interactive MATPLOTLIB\n",
    "\n",
    "As an astrophysisct, you will probably be quite adept at using matplotlib. This notebook will demonstrate how to enhance your interactivity with matplotlib. You may already be familiar with the native interactivity incorporated into matplotlib. If you enable select backends such as `qt` you will have access to features such as zooming in/out, panning, cropping and inspecting elements of a figure. There are even certain keybinds such as `s` that opens up a save menu.\n",
    "\n",
    "What we will go through in this notebook is exactly how those intearctive features are incorporated and evaluated in matplotlib and in general with GUIs. We will then explore incorporating our own interactive features into matplotlib.\n",
    "\n",
    "## Contents\n",
    "\n",
    "1. Basic of GUIs, Messages and events\n",
    "2. Making our own event\n",
    "3. mouse events\n",
    "4. keyboard events\n",
    "5. Other packages for GUI stuff (widgets)\n"
   ]
  },
  {
   "cell_type": "code",
   "execution_count": 1,
   "metadata": {},
   "outputs": [],
   "source": [
    "# imports a bunch of things\n",
    "import matplotlib.pyplot as plt\n",
    "import numpy as np\n",
    "import matplotlib\n",
    "import random\n",
    "\n",
    "matplotlib.use(\"QtAgg\")"
   ]
  },
  {
   "cell_type": "markdown",
   "metadata": {},
   "source": [
    "# Basics of GUIs"
   ]
  },
  {
   "cell_type": "code",
   "execution_count": null,
   "metadata": {},
   "outputs": [],
   "source": [
    "# fundamental for loop for a GUI\n",
    "# NOTE the code below is not meant to be run, it is pseudo-code to explain how a GUI works.\n",
    "def do_processing(): pass\n",
    "def getNextEvent(): pass\n",
    "def print_to_screen(): pass\n",
    "\n",
    "\n",
    "while True:\n",
    "\n",
    "    # do processing\n",
    "    do_processing()\n",
    "\n",
    "    # check for events\n",
    "    while True:\n",
    "        e = getNextEvent()\n",
    "        if e == None:\n",
    "            break\n",
    "    \n",
    "    # display\n",
    "    print_to_screen()\n",
    "\n",
    "\n",
    "    break\n"
   ]
  },
  {
   "cell_type": "markdown",
   "metadata": {},
   "source": [
    "## How does MATPLOTLIB do it?\n",
    "\n",
    "Matplotlib handles events in a similar way, it loops through all stored events and checks if a key or a mouse has been used a certain way, if so, it will evaluate any callback function tied to that input. An example of this is matplotlib's use of the `s` keybind to save a figure."
   ]
  },
  {
   "cell_type": "code",
   "execution_count": 2,
   "metadata": {},
   "outputs": [],
   "source": [
    "# lets make a plot\n",
    "fig, ax = plt.subplots(1, 1, figsize = (10,10))\n",
    "\n",
    "# lets just plot some random data\n",
    "ax.plot(np.arange(1000), np.random.rand(1000))\n",
    "ax.set(xlabel = \"Sample number\", ylabel = \"Sample val\")\n",
    "\n",
    "plt.show()"
   ]
  },
  {
   "cell_type": "markdown",
   "metadata": {},
   "source": [
    "# Creating a matplotlib `event`\n",
    "\n",
    "Lets look at how we can create an event\n",
    "\n",
    "## Key Press"
   ]
  },
  {
   "cell_type": "code",
   "execution_count": 10,
   "metadata": {},
   "outputs": [],
   "source": [
    "# make an event function\n",
    "def change_color(event):\n",
    "    \"\"\"\n",
    "    Change the color of the line plot\n",
    "    \"\"\"\n",
    "    col = np.random.rand(3)\n",
    "\n",
    "    print(event.key)\n",
    "\n",
    "    print(f\"new color: {col}\")\n",
    "\n",
    "    # if event.key == \" \":\n",
    "    line.set_color(col)\n",
    "    fig.canvas.draw()\n",
    "    \n",
    "    print(line)\n",
    "    print(event.key)"
   ]
  },
  {
   "cell_type": "code",
   "execution_count": 11,
   "metadata": {},
   "outputs": [
    {
     "name": "stdout",
     "output_type": "stream",
     "text": [
      "None\n",
      "new color: [0.63553144 0.82405049 0.3053824 ]\n",
      "Line2D(_child0)\n",
      "None\n",
      "None\n",
      "new color: [0.05330861 0.99062126 0.64003642]\n",
      "Line2D(_child0)\n",
      "None\n",
      "None\n",
      "new color: [0.99861097 0.35641198 0.87155239]\n",
      "Line2D(_child0)\n",
      "None\n",
      "None\n",
      "new color: [0.87719726 0.24793152 0.09347561]\n",
      "Line2D(_child0)\n",
      "None\n",
      "None\n",
      "new color: [0.91739157 0.6160452  0.01418755]\n",
      "Line2D(_child0)\n",
      "None\n",
      "None\n",
      "new color: [0.03770731 0.04233733 0.27498875]\n",
      "Line2D(_child0)\n",
      "None\n",
      "None\n",
      "new color: [0.04055417 0.70310136 0.00765526]\n",
      "Line2D(_child0)\n",
      "None\n",
      "None\n",
      "new color: [0.83005022 0.37414831 0.19800651]\n",
      "Line2D(_child0)\n",
      "None\n",
      "None\n",
      "new color: [0.48807451 0.9564833  0.5523861 ]\n",
      "Line2D(_child0)\n",
      "None\n",
      "None\n",
      "new color: [0.25418634 0.50121136 0.44834388]\n",
      "Line2D(_child0)\n",
      "None\n"
     ]
    }
   ],
   "source": [
    "# create a figure again\n",
    "fig, ax = plt.subplots(1, 1, figsize = (10,10))\n",
    "\n",
    "# plot some data, this time lets plot a parabola\n",
    "x = np.linspace(-10, 10, 1000)\n",
    "line, = ax.plot(x, x**2, linewidth = 4)\n",
    "ax.set(xlabel = \"Sample number\", ylabel = \"Sample val\")\n",
    "\n",
    "# bind to key press\n",
    "# fig.canvas.mpl_connect('key_press_event', change_color)\n",
    "\n",
    "# bind to mouse press\n",
    "fig.canvas.mpl_connect('button_press_event', change_color)\n",
    "\n",
    "plt.show()"
   ]
  },
  {
   "cell_type": "markdown",
   "metadata": {},
   "source": [
    "### Lets see another example of using the `motion_notify_event` to change the plot when moving the mouse"
   ]
  },
  {
   "cell_type": "code",
   "execution_count": null,
   "metadata": {},
   "outputs": [],
   "source": [
    "def change_plot(event):\n",
    "    \"\"\"\n",
    "    Change power law of plot\n",
    "    \n",
    "\n",
    "    \"\"\"\n",
    "    global power_index\n",
    "\n",
    "    if event.button == 1:\n",
    "        power_index += 1\n",
    "        \n",
    "    elif event.button == 3:\n",
    "        power_index -= 1\n",
    "    \n",
    "    # change power law of function\n",
    "    print(power_index)\n",
    "    new_y = np.zeros(line.get_ydata().size)\n",
    "    for i in range(int(power_index)):\n",
    "        new_y += float(i + 1) * line.get_xdata()**(i + 1)\n",
    "    line.set_ydata(new_y)\n",
    "    ax.set_ylim([np.min(line.get_ydata()), np.max(line.get_ydata())])\n",
    "    fig.canvas.draw()\n",
    "\n",
    "\n",
    "\n"
   ]
  },
  {
   "cell_type": "code",
   "execution_count": null,
   "metadata": {},
   "outputs": [],
   "source": [
    "# create a figure again\n",
    "fig, ax = plt.subplots(1, 1, figsize = (10,10))\n",
    "\n",
    "# plot some data, this time lets plot a parabola\n",
    "xdat = np.linspace(-1, 1, 100)\n",
    "line, = ax.plot(xdat, xdat**2, linewidth = 4)\n",
    "ax.set(xlabel = \"Sample number\", ylabel = \"Sample val\")\n",
    "\n",
    "# variables\n",
    "global power_index\n",
    "power_index = 2\n",
    "\n",
    "fig.canvas.mpl_connect(\"button_press_event\", change_plot)\n",
    "\n",
    "plt.show()"
   ]
  },
  {
   "cell_type": "markdown",
   "metadata": {},
   "source": [
    "# Widgets\n",
    "\n",
    "A widget is an interactive \"thing\" in a GUI window, like a button or a slider or even the drop down menu. A widget will hold some functionality and is usually tied with a callback function just like the device input above.\n",
    "\n",
    "We are going to do a simple excercise. We will build a simple GUI with a plot window and a slider. The plot will show a sine wave and the slider will alter the frequency of that sine wave.\n"
   ]
  },
  {
   "cell_type": "code",
   "execution_count": 12,
   "metadata": {},
   "outputs": [],
   "source": [
    "from matplotlib.widgets import Slider"
   ]
  },
  {
   "cell_type": "code",
   "execution_count": 13,
   "metadata": {},
   "outputs": [],
   "source": [
    "# function of slider\n",
    "def change_freq(val):\n",
    "    ax[0].clear()\n",
    "    ax[0].plot(x, np.sin(val * x))\n",
    "    fig.canvas.draw()\n",
    "    \n",
    "    \n",
    "    \n",
    "# make figure\n",
    "fig, ax = plt.subplots(2, 1, figsize = (10,10))\n",
    "ax = ax.flatten()\n",
    "\n",
    "x = np.linspace(0, 2*np.pi, 200)\n",
    "\n",
    "ax[0].plot(x, np.sin(x))\n",
    "\n",
    "freq_slider = Slider(ax = ax[1], label = \"Frequency\", valmin = 0.1, valmax = 10.0, valinit = 1.0)\n",
    "freq_slider.on_changed(change_freq)\n",
    "\n",
    "plt.show()\n",
    "\n"
   ]
  },
  {
   "cell_type": "code",
   "execution_count": null,
   "metadata": {},
   "outputs": [],
   "source": []
  }
 ],
 "metadata": {
  "kernelspec": {
   "display_name": "Python 3",
   "language": "python",
   "name": "python3"
  },
  "language_info": {
   "codemirror_mode": {
    "name": "ipython",
    "version": 3
   },
   "file_extension": ".py",
   "mimetype": "text/x-python",
   "name": "python",
   "nbconvert_exporter": "python",
   "pygments_lexer": "ipython3",
   "version": "3.11.5"
  }
 },
 "nbformat": 4,
 "nbformat_minor": 2
}
