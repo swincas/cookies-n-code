{
 "cells": [
  {
   "cell_type": "code",
   "execution_count": 7,
   "metadata": {},
   "outputs": [],
   "source": [
    "# imports\n",
    "import numpy as np\n"
   ]
  },
  {
   "cell_type": "markdown",
   "metadata": {},
   "source": [
    "# THE BASICS\n",
    "\n",
    "\n",
    "I have a bunch of balls, these balls:\n",
    "\n",
    "- have the same density, i.e. made of the same material\n",
    "\n",
    "- can have different sizes"
   ]
  },
  {
   "cell_type": "code",
   "execution_count": 26,
   "metadata": {},
   "outputs": [],
   "source": [
    "# make the class (GO TO SLIDE 3)\n",
    "class ball:\n",
    "\n",
    "    #density = 0.15\n",
    "\n",
    "    # class constructor\n",
    "    def __init__(self, radius):\n",
    "\n",
    "        self.radius = radius\n",
    "\n",
    "    # another function\n",
    "    def get_volume(self):\n",
    "\n",
    "        return 4/3 * np.pi * self.radius**3\n",
    "\n",
    "    def get_mass(self):\n",
    "\n",
    "        return self.density * self.get_volume()\n"
   ]
  },
  {
   "cell_type": "code",
   "execution_count": 28,
   "metadata": {},
   "outputs": [
    {
     "name": "stdout",
     "output_type": "stream",
     "text": [
      "5\n",
      "5\n"
     ]
    }
   ],
   "source": [
    "# make balls with some radius (GO TO SLIDE 4)\n",
    "ball_1 = ball(5)\n",
    "ball_2 = ball(5)\n",
    "\n",
    "# ball_2.radius = 20\n",
    "ball_1.density = 10\n",
    "\n",
    "print(ball_1.radius)\n",
    "print(ball_2.radius)\n"
   ]
  },
  {
   "cell_type": "code",
   "execution_count": 29,
   "metadata": {},
   "outputs": [
    {
     "name": "stdout",
     "output_type": "stream",
     "text": [
      "523.5987755982989\n",
      "523.5987755982989\n",
      "5235.987755982988\n",
      "78.53981633974483\n"
     ]
    }
   ],
   "source": [
    "# print volume (GO TO SLIDE 5)\n",
    "print(ball_1.get_volume())\n",
    "print(ball_2.get_volume())\n",
    "\n",
    "\n",
    "# print mass\n",
    "print(ball_1.get_mass())\n",
    "print(ball_2.get_mass())"
   ]
  },
  {
   "cell_type": "code",
   "execution_count": 30,
   "metadata": {},
   "outputs": [
    {
     "name": "stdout",
     "output_type": "stream",
     "text": [
      "10\n",
      "0.15\n",
      "{'radius': 5, 'density': 10}\n",
      "{'__module__': '__main__', 'density': 0.15, '__init__': <function ball.__init__ at 0x7f787ec5f1f0>, 'get_volume': <function ball.get_volume at 0x7f787ebf9550>, 'get_mass': <function ball.get_mass at 0x7f787ebf9040>, '__dict__': <attribute '__dict__' of 'ball' objects>, '__weakref__': <attribute '__weakref__' of 'ball' objects>, '__doc__': None}\n",
      "5235.987755982988\n",
      "261.79938779914943\n"
     ]
    }
   ],
   "source": [
    "# make density a class variable (GO TO SLIDE 6)\n",
    "print(ball_1.density)\n",
    "print(ball.density)\n",
    "\n",
    "print(ball_1.__dict__)\n",
    "print(ball.__dict__)\n",
    "\n",
    "print(ball_1.get_mass())\n",
    "ball_1.density = 0.5\n",
    "print(ball_1.get_mass())\n",
    "\n",
    "\n",
    "# ball.density = 0.5\n",
    "\n",
    "# print(ball_1.density)\n",
    "# print(ball_2.density)\n",
    "# print(ball.density)\n"
   ]
  },
  {
   "cell_type": "markdown",
   "metadata": {},
   "source": [
    "# Properties (Getters)"
   ]
  },
  {
   "cell_type": "code",
   "execution_count": null,
   "metadata": {},
   "outputs": [],
   "source": [
    "# make the class (GO TO SLIDE 8)\n",
    "\n",
    "class ball:\n",
    "\n",
    "    density = 0.15\n",
    "\n",
    "    # class constructor\n",
    "    def __init__(self, radius):\n",
    "\n",
    "        self.radius = radius\n",
    "\n",
    "    # another function\n",
    "    \n",
    "    @property\n",
    "    def volume(self):\n",
    "\n",
    "        return 4/3 * np.pi * self.radius**3\n",
    "\n",
    "    @property\n",
    "    def mass(self):\n",
    "\n",
    "        return self.density * self.volume"
   ]
  },
  {
   "cell_type": "code",
   "execution_count": null,
   "metadata": {},
   "outputs": [],
   "source": [
    "ball_1 = ball(5)\n",
    "\n",
    "print(ball_1.volume)\n",
    "print(ball_1.mass)"
   ]
  },
  {
   "cell_type": "markdown",
   "metadata": {},
   "source": [
    "# Setters"
   ]
  },
  {
   "cell_type": "code",
   "execution_count": null,
   "metadata": {},
   "outputs": [],
   "source": [
    "# GO TO SLIDES 9-10\n",
    "materials = {'paper': 0.05, 'wood': 0.15, 'steel': 2.00, 'NS matter': 2e12}\n",
    "\n",
    "class ball:\n",
    "\n",
    "    # class constructor\n",
    "    def __init__(self, radius, material):\n",
    "\n",
    "        self.radius = radius\n",
    "        self.material = material\n",
    "        self.density = materials[material]\n",
    "\n",
    "    # another function\n",
    "    \n",
    "    @property\n",
    "    def volume(self):\n",
    "\n",
    "        return 4/3 * np.pi * self.radius**3\n",
    "\n",
    "    @property\n",
    "    def mass(self):\n",
    "\n",
    "        return self.density * self.volume\n",
    "\n",
    "\n",
    "# class ball:\n",
    "\n",
    "#     material = None\n",
    "\n",
    "#     # class constructor\n",
    "#     def __init__(self, radius, material):\n",
    "\n",
    "#         self.radius = radius\n",
    "#         self.material = material\n",
    "\n",
    "#     # another function\n",
    "    \n",
    "#     @property\n",
    "#     def volume(self):\n",
    "\n",
    "#         return 4/3 * np.pi * self.radius**3\n",
    "\n",
    "#     @property\n",
    "#     def mass(self):\n",
    "\n",
    "#         return self.density * self.volume\n",
    "\n",
    "\n",
    "#     @property\n",
    "#     def material(self):\n",
    "\n",
    "#         return self._material\n",
    "\n",
    "\n",
    "#     @material.setter\n",
    "#     def material(self, material):\n",
    "\n",
    "#         self._material = material\n",
    "#         self.density = materials[material]\n",
    "        "
   ]
  },
  {
   "cell_type": "code",
   "execution_count": null,
   "metadata": {},
   "outputs": [],
   "source": [
    "wood_ball = ball(5, 'wood')\n",
    "steel_ball = ball(5, 'steel')\n",
    "\n",
    "\n",
    "print(wood_ball.density)\n",
    "print(wood_ball.mass)\n",
    "\n",
    "print(steel_ball.density)\n",
    "print(steel_ball.mass)\n"
   ]
  },
  {
   "cell_type": "code",
   "execution_count": null,
   "metadata": {},
   "outputs": [],
   "source": [
    "wood_ball.material = 'paper'\n",
    "\n",
    "print(wood_ball.material)\n",
    "print(wood_ball.density)\n",
    "print(wood_ball.mass)\n",
    "\n",
    "\n"
   ]
  },
  {
   "cell_type": "markdown",
   "metadata": {},
   "source": [
    "# MAGIC METHODS"
   ]
  },
  {
   "cell_type": "markdown",
   "metadata": {},
   "source": [
    "# str"
   ]
  },
  {
   "cell_type": "code",
   "execution_count": null,
   "metadata": {},
   "outputs": [],
   "source": [
    "class ball:\n",
    "\n",
    "    material = None\n",
    "\n",
    "    # class constructor\n",
    "    def __init__(self, radius, material):\n",
    "\n",
    "        self.radius = radius\n",
    "        self.material = material\n",
    "\n",
    "    # another function\n",
    "    \n",
    "    @property\n",
    "    def volume(self):\n",
    "\n",
    "        return 4/3 * np.pi * self.radius**3\n",
    "\n",
    "    @property\n",
    "    def mass(self):\n",
    "\n",
    "        return self.density * self.volume\n",
    "\n",
    "\n",
    "    @property\n",
    "    def material(self):\n",
    "\n",
    "        return self._material\n",
    "\n",
    "\n",
    "    @material.setter\n",
    "    def material(self, material):\n",
    "\n",
    "        self._material = material\n",
    "        self.density = materials[material]\n",
    "\n",
    "\n",
    "    def __str__(self):\n",
    "\n",
    "        # return str\n",
    "        pstr = \"\"\n",
    "        pstr += f\"ball made of [{self.material}] with a radius of [{self.radius}] and a mass of [{self.mass}]\\n\"\n",
    "\n",
    "        return pstr\n",
    "\n",
    "\n",
    "    # def __add__(self, ball2):\n",
    "\n",
    "    #     total_mass = self.mass + ball2.mass\n",
    "    #     volume = total_mass/self.density\n",
    "    #     total_r = (3*volume/(4*np.pi))**(1/3)\n",
    "\n",
    "    #     return ball(total_r, self.material)\n"
   ]
  },
  {
   "cell_type": "code",
   "execution_count": null,
   "metadata": {},
   "outputs": [],
   "source": [
    "wood_ball = ball(5, 'wood')\n",
    "\n",
    "\n",
    "print(wood_ball)"
   ]
  },
  {
   "cell_type": "markdown",
   "metadata": {},
   "source": [
    "# Operator Overloading!"
   ]
  },
  {
   "cell_type": "code",
   "execution_count": null,
   "metadata": {},
   "outputs": [],
   "source": [
    "# make two balls made of wood\n",
    "ball1 = ball(5, 'wood')\n",
    "ball2 = ball(10, 'wood')\n",
    "\n",
    "print(ball1,ball2)"
   ]
  },
  {
   "cell_type": "code",
   "execution_count": null,
   "metadata": {},
   "outputs": [],
   "source": [
    "print(ball1 + ball2)"
   ]
  },
  {
   "cell_type": "markdown",
   "metadata": {},
   "source": [
    "# Basically the end"
   ]
  }
 ],
 "metadata": {
  "kernelspec": {
   "display_name": "vpython",
   "language": "python",
   "name": "python3"
  },
  "language_info": {
   "codemirror_mode": {
    "name": "ipython",
    "version": 3
   },
   "file_extension": ".py",
   "mimetype": "text/x-python",
   "name": "python",
   "nbconvert_exporter": "python",
   "pygments_lexer": "ipython3",
   "version": "3.9.18"
  }
 },
 "nbformat": 4,
 "nbformat_minor": 2
}
