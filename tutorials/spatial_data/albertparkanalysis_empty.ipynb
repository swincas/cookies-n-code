{
 "cells": [
  {
   "cell_type": "markdown",
   "metadata": {},
   "source": [
    "# Working with Satellite Imagery from Digital Earth Australia\n",
    "\n",
    "Geospatial data (any information connected to a location on Earth) is valuable for all kinds of analysis, from understanding where to build new hospitals to forecasting crop yields for farmers across the country. Analysing geospatial data has a lot in common with other types of data, but some unique extra steps to manage location. This tutorial will show you some of these steps, and introduce you to working with satellite imagery.\n",
    "\n",
    "## Digital Earth Australia\n",
    "\n",
    "Digital Earth Australia is run by Geoscience Australia, and focusses on providing free access to analysis-ready data from key satellites like Sentinel-2 and the Landsat constellation.\n",
    "\n",
    "They provide easy access to this data through a platform called the Digital Earth Australia Sandbox (which is where we'll do the tutorial). You can sign up to the Sandbox at https://app.sandbox.dea.ga.gov.au/\n",
    "\n",
    "## Useful Resources\n",
    "\n",
    "* Explore available data using a map-based interface: https://maps.dea.ga.gov.au/\n",
    "* View metadata for available data: https://explorer.sandbox.dea.ga.gov.au/\n",
    "* Read the documentation: https://docs.dea.ga.gov.au/index.html\n",
    "* Construct a GeoJSON file to work with: https://geojson.io/"
   ]
  },
  {
   "cell_type": "markdown",
   "metadata": {},
   "source": [
    "## Set Up\n",
    "\n",
    "### Select an area to analyse\n",
    "\n",
    "Go to https://geojson.io/ to create a GeoJSON file, which we'll use to load data over a specific area. Zoom to Albert Park in Melbourne, and click the polygon tool (shaped like a pentagon), then click on the map to draw out your area of interest. A series of coordinates will appear on the right when you complete the polygon.\n",
    "\n",
    "![](geojson_polygon.png)\n",
    "\n",
    "Once you've done this, find the `properties` attribute in the text on the right. Here, we can label the polygon we've just created. This works like a Python dictionary, with a `key: value` pair. \n",
    "\n",
    "Inside the `properties: {}`, dictionary, type: `location: 'Albert Park'`\n",
    "\n",
    "![](geojson_properties.png)\n",
    "\n",
    "Then, click \"Save\" and \"GeoJSON\". This will download a file to your desktop, which you can upload to the Sandbox.\n",
    "\n",
    "### Sign up and log in to the Sandbox\n",
    "\n",
    "Go to https://app.sandbox.dea.ga.gov.au/ to sign up/log in. Once in, you'll see a Jupyter Lab interface. Create a new folder called \"My_notebooks\", and then create a new notebook in that folder."
   ]
  },
  {
   "cell_type": "markdown",
   "metadata": {},
   "source": [
    "## Load Packages"
   ]
  },
  {
   "cell_type": "code",
   "execution_count": null,
   "metadata": {},
   "outputs": [],
   "source": []
  },
  {
   "cell_type": "markdown",
   "metadata": {},
   "source": [
    "## Read in our polygon\n",
    "\n",
    "For this, we'll use a Python package called GeoPandas. This works a lot like the Python package Pandas, but has some additional functionality that helps manipulate spatial data. \n",
    "\n",
    "Drag the GeoJSON file you previously downloaded into the file browser to upload it. Then, open it by using the `geopandas.read_file()` function, which returns a GeoDataFrame. This is similar to a Pandas DataFrame, but has a special column called `geometry` for storing location information."
   ]
  },
  {
   "cell_type": "code",
   "execution_count": null,
   "metadata": {},
   "outputs": [],
   "source": []
  },
  {
   "cell_type": "code",
   "execution_count": null,
   "metadata": {},
   "outputs": [],
   "source": []
  },
  {
   "cell_type": "markdown",
   "metadata": {},
   "source": [
    "## Get the boundaries\n",
    "\n",
    "When loading in satellite data from Digital Earth Australia, we need to pass a rectangular bounding box. Luckily, geopandas has a method called `envelope`, which will give us a new GeoDataFrame with the bounding box for our polygon."
   ]
  },
  {
   "cell_type": "code",
   "execution_count": null,
   "metadata": {},
   "outputs": [],
   "source": []
  },
  {
   "cell_type": "code",
   "execution_count": null,
   "metadata": {},
   "outputs": [],
   "source": []
  },
  {
   "cell_type": "markdown",
   "metadata": {},
   "source": [
    "## Load satellite imagery over our bounding box\n",
    "\n",
    "The first step is to enable access to DEA's satellite imagery, which is done by importing the `datacube` package, and initiating the `.Datacube()` class."
   ]
  },
  {
   "cell_type": "code",
   "execution_count": null,
   "metadata": {},
   "outputs": [],
   "source": []
  },
  {
   "cell_type": "markdown",
   "metadata": {},
   "source": [
    "We'll need to specify some information to load the data. Namely:\n",
    "\n",
    "* x-coordinates\n",
    "* y-coordinates\n",
    "* data to load\n",
    "* start and end date\n",
    "* output coordinate system and resolution\n",
    "* which satellite bands to load"
   ]
  },
  {
   "cell_type": "code",
   "execution_count": null,
   "metadata": {},
   "outputs": [],
   "source": []
  },
  {
   "cell_type": "code",
   "execution_count": null,
   "metadata": {},
   "outputs": [],
   "source": []
  },
  {
   "cell_type": "markdown",
   "metadata": {},
   "source": [
    "The Sandbox comes with a series of utility functions to help you load and visualise satellite data. We'll now use `load_ard()`, imported from the `../Scripts/dea_datahandling` script."
   ]
  },
  {
   "cell_type": "code",
   "execution_count": null,
   "metadata": {},
   "outputs": [],
   "source": []
  },
  {
   "cell_type": "markdown",
   "metadata": {},
   "source": [
    "## Visualising the data\n",
    "\n",
    "We can see a true-colour plot of the data we've loaded by using the `rgb()`, imported from the `../Scripts/dea_plotting` script. You'll need to pass in the data, and the `col='time'` argument."
   ]
  },
  {
   "cell_type": "code",
   "execution_count": null,
   "metadata": {},
   "outputs": [],
   "source": []
  },
  {
   "cell_type": "markdown",
   "metadata": {},
   "source": [
    "Lots of these images are cloudy! It is Melbourne, after all! Let's filter to the ones we can tell aren't cloudy. "
   ]
  },
  {
   "cell_type": "code",
   "execution_count": null,
   "metadata": {},
   "outputs": [],
   "source": []
  },
  {
   "cell_type": "markdown",
   "metadata": {},
   "source": [
    "That's better! Let's select this subset from our data, so that we only analyse the clear images. You can do this using `xarray`'s `.isel` method"
   ]
  },
  {
   "cell_type": "code",
   "execution_count": null,
   "metadata": {},
   "outputs": [],
   "source": []
  },
  {
   "cell_type": "markdown",
   "metadata": {},
   "source": [
    "## Masking the data\n",
    "\n",
    "We've loaded satellite data for our whole bounding box, but we only want to analyse the park. We can now use our polygon to mask the data we've loaded by using the `xr_rasterize()` function, imported from the `../Scripts/dea_spatialtools` script. You'll need to pass in the polygon (as a GeoDataFrame) and the data."
   ]
  },
  {
   "cell_type": "code",
   "execution_count": null,
   "metadata": {},
   "outputs": [],
   "source": []
  },
  {
   "cell_type": "code",
   "execution_count": null,
   "metadata": {},
   "outputs": [],
   "source": []
  },
  {
   "cell_type": "markdown",
   "metadata": {},
   "source": [
    "## Calculating a band index\n",
    "\n",
    "While it's possible to identify vegetation in the true-colour image, it can be helpful to have a quantitative index to describe the health of vegetation directly. \n",
    "\n",
    "In this case, the [Normalised Difference Vegetation Index](https://en.wikipedia.org/wiki/Normalized_difference_vegetation_index) (NDVI) can help identify areas of healthy vegetation.\n",
    "For remote sensing data such as satellite imagery, it is defined as\n",
    "\n",
    "$$\n",
    "\\begin{aligned}\n",
    "\\text{NDVI} & = \\frac{(\\text{NIR} - \\text{Red})}{(\\text{NIR} + \\text{Red})}, \\\\\n",
    "\\end{aligned}\n",
    "$$\n",
    "\n",
    "where $\\text{NIR}$ is the near-infrared band of the data, and $\\text{Red}$ is the red band.\n",
    "\n",
    "We can calculate the numerator and denominator terms by accessing the bands from our masked data."
   ]
  },
  {
   "cell_type": "code",
   "execution_count": null,
   "metadata": {},
   "outputs": [],
   "source": []
  },
  {
   "cell_type": "markdown",
   "metadata": {},
   "source": [
    "## Plot a summary statistic\n",
    "\n",
    "`xarray` makes it easy to compute summary statistics, like the mean and median. For these, you'll need to pass the `dim=('x', 'y')` argument to get the median of all pixels at each time-step, or the `dim='time'` argument to get the median of each pixel over all time steps."
   ]
  },
  {
   "cell_type": "code",
   "execution_count": null,
   "metadata": {},
   "outputs": [],
   "source": []
  },
  {
   "cell_type": "code",
   "execution_count": null,
   "metadata": {},
   "outputs": [],
   "source": []
  },
  {
   "cell_type": "markdown",
   "metadata": {},
   "source": [
    "## Congratulations!\n",
    "\n",
    "You've loaded some geospatial data! There's lots to learn in this space, and the Sandbox is full of great tutorials. I'd recommend opening and running some of the Beginners_guide notebooks to learn more!"
   ]
  }
 ],
 "metadata": {
  "kernelspec": {
   "display_name": "Python 3",
   "language": "python",
   "name": "python3"
  },
  "language_info": {
   "codemirror_mode": {
    "name": "ipython",
    "version": 3
   },
   "file_extension": ".py",
   "mimetype": "text/x-python",
   "name": "python",
   "nbconvert_exporter": "python",
   "pygments_lexer": "ipython3",
   "version": "3.6.9"
  },
  "widgets": {
   "application/vnd.jupyter.widget-state+json": {
    "state": {},
    "version_major": 2,
    "version_minor": 0
   }
  }
 },
 "nbformat": 4,
 "nbformat_minor": 4
}
