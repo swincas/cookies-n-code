{
 "cells": [
  {
   "cell_type": "code",
   "execution_count": 12,
   "metadata": {},
   "outputs": [
    {
     "name": "stdout",
     "output_type": "stream",
     "text": [
      "[(u'M87', u'Virgo', u'Elliptical', 187.7059, 12.3911, u'Virgo Cluster')]\n",
      "[(u'Virgo', 187.7059, 12.3911)]\n"
     ]
    }
   ],
   "source": [
    "import sqlite3 as sql\n",
    "\n",
    "conn = sql.connect('test_database.db')\n",
    "\n",
    "cur = conn.cursor()\n",
    "\n",
    "cur.execute(\"CREATE TABLE IF NOT EXISTS my_galaxies (gal_id text, name text, type text, ra float, dec float, group_name text)\")\n",
    "\n",
    "cur.execute(\"INSERT INTO my_galaxies VALUES(?, ?, ?, ?, ?, ?)\",(\"M87\", \"Virgo\", \"Elliptical\", 187.7059, 12.3911, \"Virgo Cluster\"))\n",
    "cur.commit()\n",
    "\n",
    "cur.execute(\"SELECT * FROM my_galaxies\")\n",
    "\n",
    "my_selection = cur.fetchall()\n",
    "\n",
    "print my_selection\n",
    "\n",
    "cur.execute(\"SELECT name, ra, dec FROM my_galaxies\")\n",
    "\n",
    "my_selection_by_columns = cur.fetchall()\n",
    "\n",
    "print my_selection_by_columns \n",
    "\n",
    "cur.close()\n",
    "conn.close()"
   ]
  },
  {
   "cell_type": "code",
   "execution_count": null,
   "metadata": {},
   "outputs": [],
   "source": []
  },
  {
   "cell_type": "code",
   "execution_count": null,
   "metadata": {},
   "outputs": [],
   "source": []
  }
 ],
 "metadata": {
  "kernelspec": {
   "display_name": "Python 2",
   "language": "python",
   "name": "python2"
  },
  "language_info": {
   "codemirror_mode": {
    "name": "ipython",
    "version": 2
   },
   "file_extension": ".py",
   "mimetype": "text/x-python",
   "name": "python",
   "nbconvert_exporter": "python",
   "pygments_lexer": "ipython2",
   "version": "2.7.13"
  }
 },
 "nbformat": 4,
 "nbformat_minor": 2
}
