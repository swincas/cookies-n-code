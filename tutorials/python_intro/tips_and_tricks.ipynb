{
 "cells": [
  {
   "cell_type": "markdown",
   "metadata": {},
   "source": [
    "# Cookies and Code - Tips & Tricks"
   ]
  },
  {
   "cell_type": "markdown",
   "metadata": {},
   "source": [
    "Date: 25/3/2024 <br>\n",
    "Author: Tyson Dial\n"
   ]
  },
  {
   "cell_type": "markdown",
   "metadata": {},
   "source": [
    "# Importing"
   ]
  },
  {
   "cell_type": "code",
   "execution_count": null,
   "metadata": {},
   "outputs": [],
   "source": [
    "# basic import\n",
    "import numpy as np\n",
    "\n",
    "# importing specific functions\n",
    "from math import ceil, floor\n",
    "\n",
    "# importing specific function with a new name, why thou?\n",
    "from math import ceil as up"
   ]
  },
  {
   "cell_type": "markdown",
   "metadata": {},
   "source": [
    "## The basics"
   ]
  },
  {
   "cell_type": "markdown",
   "metadata": {},
   "source": [
    "* assignments"
   ]
  },
  {
   "cell_type": "code",
   "execution_count": null,
   "metadata": {},
   "outputs": [],
   "source": [
    "a = 5.0\n",
    "b = \"cat\"\n",
    "print(a,b)\n",
    "\n",
    "a, b = 5.0, \"cat\"\n",
    "print(a,b)"
   ]
  },
  {
   "cell_type": "markdown",
   "metadata": {},
   "source": [
    "* indexing"
   ]
  },
  {
   "cell_type": "code",
   "execution_count": null,
   "metadata": {},
   "outputs": [],
   "source": [
    "# create list\n",
    "a = [1, 2, 3, 4, 5, 6, 7, 8, 9, 10]\n",
    "\n",
    "# basic indexing\n",
    "print(a[0])"
   ]
  },
  {
   "cell_type": "markdown",
   "metadata": {},
   "source": [
    "[slicing] - list [ start : stop : step ]"
   ]
  },
  {
   "cell_type": "code",
   "execution_count": null,
   "metadata": {},
   "outputs": [],
   "source": [
    "# slicing, here I start at the element with index 0, then stop at index 5, and grab every second element between those indexes.\n",
    "# Also notice that the 5th index isn't included. This is an important attribute of slicing, as we taken all element UPTO but not including the \n",
    "# stopping index.\n",
    "# print(a[0:5:2])\n",
    "\n",
    "# slicing with :, if start, stop is not specified, they are assumed to be the first and final indexes of the list. If step isn't specified, assumed 1.\n",
    "# print(a[:8:])\n",
    "\n",
    "# negative indexing\n",
    "print(a[-1:-4:-1])\n"
   ]
  },
  {
   "cell_type": "markdown",
   "metadata": {},
   "source": [
    "* In-place operators"
   ]
  },
  {
   "cell_type": "code",
   "execution_count": null,
   "metadata": {},
   "outputs": [],
   "source": [
    "# I can apply basic operators to already assigned variables, +, -, /, *, %\n",
    "a = 1.0\n",
    "a %= 0.5\n",
    "print(a)"
   ]
  },
  {
   "cell_type": "markdown",
   "metadata": {},
   "source": [
    "# All (Mostly) about lists\n",
    "We have already gone over indexing, lets look at making and breaking lists"
   ]
  },
  {
   "cell_type": "code",
   "execution_count": null,
   "metadata": {},
   "outputs": [],
   "source": [
    "# lets create our list\n",
    "a = [1,2,3]\n",
    "\n",
    "# add items\n",
    "# a.append(4)\n",
    "\n",
    "# the cool way of adding items\n",
    "a += [4, 5, 6]\n",
    "\n",
    "# remove items\n",
    "# a.pop(0)\n",
    "\n",
    "# there is no cool way of removing items\n",
    "\n",
    "\n",
    "print(a)"
   ]
  },
  {
   "cell_type": "markdown",
   "metadata": {},
   "source": [
    "* Useful methods"
   ]
  },
  {
   "cell_type": "code",
   "execution_count": null,
   "metadata": {},
   "outputs": [],
   "source": [
    "# insert(pos, element)\n",
    "a.insert(1, 10)\n",
    "\n",
    "# sort\n",
    "a.sort()\n",
    "\n",
    "# index\n",
    "print(a.index(10))\n",
    "\n",
    "\n",
    "print(a)"
   ]
  },
  {
   "cell_type": "markdown",
   "metadata": {},
   "source": [
    "* Cool trick"
   ]
  },
  {
   "cell_type": "code",
   "execution_count": null,
   "metadata": {},
   "outputs": [],
   "source": [
    "# multiplying lists\n",
    "a = [[1, 2 ,3]]*10\n",
    "\n",
    "print(a)"
   ]
  },
  {
   "cell_type": "markdown",
   "metadata": {},
   "source": [
    "# All (Mostly) about Dictionaries\n",
    "Unlike lists, dictionaries use keyword arguments"
   ]
  },
  {
   "cell_type": "code",
   "execution_count": null,
   "metadata": {},
   "outputs": [],
   "source": [
    "# lests create a list\n",
    "pets = {'jessie':'cat', 'sam':'dog'}\n",
    "\n",
    "\n",
    "\n",
    "print(pets['jessie'])"
   ]
  },
  {
   "cell_type": "markdown",
   "metadata": {},
   "source": [
    "* Appending dicts"
   ]
  },
  {
   "cell_type": "code",
   "execution_count": null,
   "metadata": {},
   "outputs": [],
   "source": [
    "# add a pet\n",
    "pets['corey'] = \"bird\"\n",
    "\n",
    "# remove a pet\n",
    "pets.pop('jessie')\n",
    "\n",
    "\n",
    "print(pets)"
   ]
  },
  {
   "cell_type": "markdown",
   "metadata": {},
   "source": [
    "* Useful methods"
   ]
  },
  {
   "cell_type": "code",
   "execution_count": null,
   "metadata": {},
   "outputs": [],
   "source": [
    "# get the keys of a dict\n",
    "print(pets.keys())\n",
    "\n",
    "# for key in pets.keys():\n",
    "#     print(key)\n",
    "\n",
    "# get values of a dict\n",
    "print(pets.values())\n",
    "\n",
    "# for val in pets.values():\n",
    "#     print(val)\n",
    "\n",
    "# items, will be useful later\n",
    "print(pets.items())"
   ]
  },
  {
   "cell_type": "markdown",
   "metadata": {},
   "source": [
    "# copying, assigning lists and dicts"
   ]
  },
  {
   "cell_type": "code",
   "execution_count": null,
   "metadata": {},
   "outputs": [],
   "source": [
    "# lets create a list\n",
    "a = [1,2,3]\n",
    "b = a\n",
    "a += [4]\n",
    "\n",
    "\n",
    "print(b)"
   ]
  },
  {
   "cell_type": "code",
   "execution_count": null,
   "metadata": {},
   "outputs": [],
   "source": [
    "# copy list\n",
    "a = [1,2,3]\n",
    "# b = a.copy()\n",
    "\n",
    "# other way\n",
    "b = a[:]\n",
    "\n",
    "# add an element to a\n",
    "a += [6]\n",
    "\n",
    "\n",
    "print(b)"
   ]
  },
  {
   "cell_type": "markdown",
   "metadata": {},
   "source": [
    "* Shallow copying"
   ]
  },
  {
   "cell_type": "code",
   "execution_count": null,
   "metadata": {},
   "outputs": [],
   "source": [
    "# more complicated list\n",
    "a = [1, 2, [3,4,5]]\n",
    "\n",
    "b = a.copy()\n",
    "# b = a[:]\n",
    "\n",
    "# add element to nested list\n",
    "a[2] += [6]\n",
    "\n",
    "\n",
    "print(a)\n",
    "print(b)"
   ]
  },
  {
   "cell_type": "markdown",
   "metadata": {},
   "source": [
    "* deepcopy"
   ]
  },
  {
   "cell_type": "code",
   "execution_count": null,
   "metadata": {},
   "outputs": [],
   "source": [
    "from copy import deepcopy\n",
    "\n",
    "b = deepcopy(a)\n",
    "\n",
    "a[2] += [7]\n",
    "\n",
    "print(a)\n",
    "print(b)"
   ]
  },
  {
   "cell_type": "markdown",
   "metadata": {},
   "source": [
    "* Similar for dicts"
   ]
  },
  {
   "cell_type": "code",
   "execution_count": null,
   "metadata": {},
   "outputs": [],
   "source": [
    "# make a dictionary\n",
    "pets = {'jessie':'cat', 'sam':'dog'}\n",
    "\n",
    "pets2 = deepcopy(pets)\n",
    "\n",
    "pets['corey'] = 'bird'\n",
    "\n",
    "\n",
    "print(pets)\n",
    "print(pets2)"
   ]
  },
  {
   "cell_type": "markdown",
   "metadata": {},
   "source": [
    "# For Loops, tricks, tips"
   ]
  },
  {
   "cell_type": "code",
   "execution_count": null,
   "metadata": {},
   "outputs": [],
   "source": [
    "# basic loop takes a list (or iterable) and loops over each element\n",
    "for i in [10,20,30,40,50]:\n",
    "    print(i)\n"
   ]
  },
  {
   "cell_type": "markdown",
   "metadata": {},
   "source": [
    "* enumerate"
   ]
  },
  {
   "cell_type": "code",
   "execution_count": null,
   "metadata": {},
   "outputs": [],
   "source": [
    "# lets make another for loop\n",
    "for i, val in enumerate([10, 20, 30, 40, 50]):\n",
    "    print(val)"
   ]
  },
  {
   "cell_type": "markdown",
   "metadata": {},
   "source": [
    "* for loop unpacking"
   ]
  },
  {
   "cell_type": "code",
   "execution_count": null,
   "metadata": {},
   "outputs": [],
   "source": [
    "# make a list of lists \n",
    "a = [[1,2], [3,4], [5,6], [7,8]]\n",
    "for x,y in a:\n",
    "    print(x,y)"
   ]
  },
  {
   "cell_type": "markdown",
   "metadata": {},
   "source": [
    "* Note on unpacking"
   ]
  },
  {
   "cell_type": "markdown",
   "metadata": {},
   "source": [
    "* two lists at once?!"
   ]
  },
  {
   "cell_type": "code",
   "execution_count": null,
   "metadata": {},
   "outputs": [],
   "source": [
    "# we can iterate over two loops at once using the zip() python function\n",
    "x_list = [1,2,3,4,5,6]\n",
    "y_list = [10,20,30,40,50,60]\n",
    "for x, y in zip(x_list, y_list):\n",
    "    print(x, y)"
   ]
  },
  {
   "cell_type": "markdown",
   "metadata": {},
   "source": [
    "* Three lists at once?!?!?!?!??\n"
   ]
  },
  {
   "cell_type": "code",
   "execution_count": null,
   "metadata": {},
   "outputs": [],
   "source": [
    "z_list = [5,6,7]\n",
    "for x, y, z in zip(x_list, y_list, z_list):\n",
    "    print(x, y, z)\n"
   ]
  },
  {
   "cell_type": "markdown",
   "metadata": {},
   "source": [
    "# ComPRehEnsiOn\n",
    "Comphrehending lists"
   ]
  },
  {
   "cell_type": "code",
   "execution_count": null,
   "metadata": {},
   "outputs": [],
   "source": [
    "# make list again\n",
    "output = [0] * 5\n",
    "for i, val in enumerate([10,20,30,40,50]):\n",
    "    output[i] = 2*val\n",
    "\n",
    "\n",
    "\n",
    "print(output)"
   ]
  },
  {
   "cell_type": "markdown",
   "metadata": {},
   "source": [
    "b = [[codeblock] for [i] in [iterator]]"
   ]
  },
  {
   "cell_type": "code",
   "execution_count": null,
   "metadata": {},
   "outputs": [],
   "source": [
    "# list comprehensions can also include condition statements\n",
    "output = [2*val for val in [10,20,30,40,50]]\n",
    "\n",
    "print(output)"
   ]
  },
  {
   "cell_type": "markdown",
   "metadata": {},
   "source": [
    "* nested list comprehension"
   ]
  },
  {
   "cell_type": "code",
   "execution_count": null,
   "metadata": {},
   "outputs": [],
   "source": [
    "# nested lists whooooo\n",
    "a = [[1,0,1,0,1], [0,0,1,1,1], [0,1,1,1,0], [1,0,1,0,1], [0,0,0,1,0]]\n",
    "\n",
    "# # loop through and change 0's to 1's\n",
    "# for i, x in enumerate(a):\n",
    "#     for j, y in enumerate(x):\n",
    "#         if y == 0:\n",
    "#             a[i][j] = 1\n",
    "\n",
    "\n",
    "# use list comphrehension\n",
    "a = [[val + 1 if val == 0 else val for val in y] for y in a]\n",
    "\n",
    "\n",
    "\n",
    "print(a)"
   ]
  },
  {
   "cell_type": "code",
   "execution_count": null,
   "metadata": {},
   "outputs": [],
   "source": [
    "# more examples\n",
    "# multiply every second element by 2\n",
    "a = [1,2,3,4,5,6,7,8,9,10]\n",
    "\n",
    "b = [2*val if not i%2 else val for i, val in enumerate(a)]\n",
    "\n",
    "print(b)\n",
    "\n",
    "# EXPERIMENT!!\n",
    "# But within reason"
   ]
  },
  {
   "cell_type": "markdown",
   "metadata": {},
   "source": [
    "# You can also ComPreHEnD dictionaries"
   ]
  },
  {
   "cell_type": "code",
   "execution_count": null,
   "metadata": {},
   "outputs": [],
   "source": [
    "# lets start simple, grab a dictionary and print out the key value pairs\n",
    "animals = [\"cat\", \"dog\", \"bird\", \"snek\"]\n",
    "names = [\"jacob\", \"lewis\", \"hugo\", \"kyle\"]\n",
    "\n",
    "# we can turn an iterator into a dict or list\n",
    "pets = dict(zip(animals, names))\n",
    "\n",
    "print(pets)"
   ]
  },
  {
   "cell_type": "code",
   "execution_count": null,
   "metadata": {},
   "outputs": [],
   "source": [
    "# print out nicely using dict comprehension, name all out pets bob\n",
    "pets_named_bob = {key : \"bob\" for key,_ in pets.items()}\n",
    "\n",
    "print(pets_named_bob)"
   ]
  },
  {
   "cell_type": "markdown",
   "metadata": {},
   "source": [
    "* More complicated"
   ]
  },
  {
   "cell_type": "code",
   "execution_count": null,
   "metadata": {},
   "outputs": [],
   "source": [
    "# similar to a list, but with curly brackets and keyword, value pairs\n",
    "animals = [\"cat\", \"dog\", \"bird\",\"snek\"]\n",
    "names = [\"jacob\", \"lewis\", \"hugo\", \"Simon\"]\n",
    "\n",
    "# I want only the cats, put into a dictioary\n",
    "cats = {i : name for i, (animal, name) in enumerate(zip(animals, names)) if animal == \"cat\"}\n",
    "\n",
    "print(cats)"
   ]
  },
  {
   "cell_type": "markdown",
   "metadata": {},
   "source": [
    "# *astrix\n",
    "Unpacks a list of elements into seperate position based inputs"
   ]
  },
  {
   "cell_type": "code",
   "execution_count": null,
   "metadata": {},
   "outputs": [],
   "source": [
    "# print out a bunch of variables\n",
    "a = 24\n",
    "b = \"beers\"\n",
    "\n",
    "# print(a,b)\n",
    "\n",
    "# in a list\n",
    "c = [a ,b, \"and shots\", \"help\"]\n",
    "\n",
    "print(*c)"
   ]
  },
  {
   "cell_type": "code",
   "execution_count": null,
   "metadata": {},
   "outputs": [],
   "source": [
    "int_bounds = [3, 64]\n",
    "\n",
    "a = list(range(*int_bounds))\n",
    "print(a)"
   ]
  },
  {
   "cell_type": "code",
   "execution_count": null,
   "metadata": {},
   "outputs": [],
   "source": [
    "# most useful thing I've found\n",
    "import numpy as np\n",
    "\n",
    "bounds = [25.4, 76.8]\n",
    "\n",
    "a = np.linspace(*bounds, 50)\n",
    "\n",
    "print(a)"
   ]
  },
  {
   "cell_type": "markdown",
   "metadata": {},
   "source": [
    "* Lets make our own function"
   ]
  },
  {
   "cell_type": "code",
   "execution_count": null,
   "metadata": {},
   "outputs": [],
   "source": [
    "# math function\n",
    "import matplotlib.pyplot as plt\n",
    "def gaussian(x, a, mu, sig):\n",
    "    \"\"\"\n",
    "    a   - Amplitude\n",
    "    mu  - Position\n",
    "    sig - HWHM of pulse  \n",
    "    \"\"\"\n",
    "\n",
    "    return a*np.exp(-(x - mu)**2/(2*sig**2))\n",
    "\n",
    "\n",
    "gaussian_par = [1.5, -2.0, 0.7] # a, mu, sig\n",
    "x = np.linspace(-10, 10, 1000)\n",
    "\n",
    "plt.plot(x, gaussian(x, *gaussian_par))\n",
    "\n"
   ]
  },
  {
   "cell_type": "markdown",
   "metadata": {},
   "source": [
    "* neat tricks"
   ]
  },
  {
   "cell_type": "code",
   "execution_count": null,
   "metadata": {},
   "outputs": [],
   "source": [
    "print(*pets.values())"
   ]
  },
  {
   "cell_type": "markdown",
   "metadata": {},
   "source": [
    "# **astrix\n",
    "Unpack a dictionary of items by keywords and treat as seperate inputs"
   ]
  },
  {
   "cell_type": "code",
   "execution_count": null,
   "metadata": {},
   "outputs": [],
   "source": [
    "gaussian_par = {}\n",
    "gaussian_par['a'] = 1.5\n",
    "gaussian_par['mu'] = 3.0\n",
    "gaussian_par['sig'] = 0.7\n",
    "\n",
    "plt.plot(x, gaussian(x, **gaussian_par))"
   ]
  },
  {
   "cell_type": "markdown",
   "metadata": {},
   "source": [
    "* Using * and ** in functions"
   ]
  },
  {
   "cell_type": "code",
   "execution_count": null,
   "metadata": {},
   "outputs": [],
   "source": [
    "def func1(a, b, *args):\n",
    "\n",
    "    print(a + b)\n",
    "    print(args)\n",
    "\n",
    "\n",
    "a, b = [1.5, 3.0]\n",
    "c, d, e, f, g = [3.4, 5.6, 0.3, 1.2, 9.14]\n",
    "\n",
    "func1(a, b, c, d, e ,f ,g)"
   ]
  },
  {
   "cell_type": "code",
   "execution_count": null,
   "metadata": {},
   "outputs": [],
   "source": [
    "def func1(a, b, **kwargs):\n",
    "\n",
    "    print(a + b)\n",
    "    print(kwargs)\n",
    "    func2(**kwargs)\n",
    "\n",
    "\n",
    "def func2(c, d):\n",
    "    print(c * d)\n",
    "\n",
    "\n",
    "a, b = [1.5, 3.0]\n",
    "c, d = [3.4, 5.6]\n",
    "\n",
    "func1(a, b, c = c, d = d)"
   ]
  },
  {
   "cell_type": "markdown",
   "metadata": {},
   "source": [
    "# Strings"
   ]
  },
  {
   "cell_type": "code",
   "execution_count": null,
   "metadata": {},
   "outputs": [],
   "source": [
    "# string\n",
    "# a = \"48 beers\"\n",
    "\n",
    "# string concatenation\n",
    "a = \"48\" + \" beers\"\n",
    "\n",
    "print(a)"
   ]
  },
  {
   "cell_type": "code",
   "execution_count": null,
   "metadata": {},
   "outputs": [],
   "source": [
    "def how_many_beers(num):\n",
    "\n",
    "    # simple print\n",
    "    # print(num, \"beers\")\n",
    "\n",
    "    # string concatenation\n",
    "    # print(str(num) + \" beers\")\n",
    "\n",
    "    # format\n",
    "    # print(\"{:} {:} beers\".format(num, 1000))\n",
    "\n",
    "    # f-strings\n",
    "    print(f\"{num} beers\")\n",
    "\n",
    "\n",
    "how_many_beers(48)"
   ]
  },
  {
   "cell_type": "markdown",
   "metadata": {},
   "source": [
    "* f-strings and formatting\n",
    "\n",
    "https://www.w3schools.com/python/ref_string_format.asp\n"
   ]
  },
  {
   "cell_type": "code",
   "execution_count": null,
   "metadata": {},
   "outputs": [],
   "source": [
    "def how_much_do_beer_cost(num): #:f, :g, :%, :+, :,, :<>\n",
    "    price_of_beer = 4.18\n",
    "\n",
    "    print(f\"{num} beers cost ${num*price_of_beer:}\")\n",
    "\n",
    "\n",
    "how_much_do_beer_cost(480_000_000)    # show 480_000_000"
   ]
  },
  {
   "cell_type": "markdown",
   "metadata": {},
   "source": [
    "* mathprint/latex"
   ]
  },
  {
   "cell_type": "code",
   "execution_count": null,
   "metadata": {},
   "outputs": [],
   "source": [
    "import matplotlib.pyplot as plt\n",
    "\n",
    "\n",
    "\n",
    "# using normal string\n",
    "latstr = \"a = $\\\\beta^{2}_{0}$\"\n",
    "\n",
    "\n",
    "power = 5\n",
    "latstr = f\"a = b$^{{{power}}}$\"\n",
    "latstr = f\"a = $\\\\beta^{{{power}}}_{{0}}$\"\n",
    "\n",
    "plt.plot()\n",
    "plt.title(latstr)"
   ]
  },
  {
   "cell_type": "markdown",
   "metadata": {},
   "source": [
    "* COLOR!\n",
    "\n",
    "https://www.geeksforgeeks.org/print-colors-python-terminal/\n"
   ]
  },
  {
   "cell_type": "code",
   "execution_count": null,
   "metadata": {},
   "outputs": [],
   "source": [
    "# there is a special string sequence that can be used to control the color of any output text\n",
    "#from termcolor import colored ...\n",
    "\n",
    "lightred = '\\033[91m'\n",
    "lightgrey = '\\033[47m'\n",
    "\n",
    "print(lightgrey, lightred, \"48 beers\")"
   ]
  },
  {
   "cell_type": "code",
   "execution_count": null,
   "metadata": {},
   "outputs": [],
   "source": [
    "def how_many_beers(num):\n",
    "\n",
    "    if num < 3:\n",
    "        col = '\\033[92m'\n",
    "    elif num < 12:\n",
    "        col = '\\033[93m'\n",
    "    elif num < 24:    \n",
    "        col = '\\033[91m'\n",
    "    else:\n",
    "        col = '\\033[30m'\n",
    "        print(\"You might need to get your stomach pumped\")\n",
    "    \n",
    "    print(col, f\"{num} beers\")\n",
    "\n",
    "how_many_beers(24)"
   ]
  },
  {
   "cell_type": "markdown",
   "metadata": {},
   "source": [
    "# Other cool things"
   ]
  },
  {
   "cell_type": "markdown",
   "metadata": {},
   "source": [
    "* Using set in a fun way"
   ]
  },
  {
   "cell_type": "code",
   "execution_count": null,
   "metadata": {},
   "outputs": [],
   "source": [
    "# sets are like lists, but cannot be changed, and DO NOT ALLOW DUPLICATE ELEMENTS\n",
    "a = [1,2,3,4,5,5,3,3,3,2,7,6,4]\n",
    "\n",
    "a = list(set(a))\n",
    "\n",
    "print(a)"
   ]
  },
  {
   "cell_type": "markdown",
   "metadata": {},
   "source": [
    "* Opening files the safe way"
   ]
  },
  {
   "cell_type": "code",
   "execution_count": null,
   "metadata": {},
   "outputs": [],
   "source": [
    "# the basic way\n",
    "file = open(\"new_file.txt\", \"w\")\n",
    "\n",
    "file.write()\n",
    "\n",
    "file.close()"
   ]
  },
  {
   "cell_type": "code",
   "execution_count": null,
   "metadata": {},
   "outputs": [],
   "source": [
    "# the better way\n",
    "with open(\"new_file.txt\", \"r\") as file:\n",
    "    file.write(\"x\")\n",
    "\n"
   ]
  },
  {
   "cell_type": "markdown",
   "metadata": {},
   "source": [
    "* Working with file paths"
   ]
  },
  {
   "cell_type": "code",
   "execution_count": null,
   "metadata": {},
   "outputs": [],
   "source": [
    "from os import path\n",
    "\n",
    "filedir = \"/home/tdial\"\n",
    "filename = \"new_file.txt\"\n",
    "\n",
    "filepath = path.join(filedir, filename)\n",
    "\n",
    "print(filepath)"
   ]
  },
  {
   "cell_type": "markdown",
   "metadata": {},
   "source": [
    "* slice object\n"
   ]
  },
  {
   "cell_type": "code",
   "execution_count": null,
   "metadata": {},
   "outputs": [],
   "source": [
    "# you can define a slice object\n",
    "a = [1,2,3,4,5,6,7,8,9,10]\n",
    "pars = [0, 5, 2]\n",
    "\n",
    "\n",
    "print(a[slice(*pars)])"
   ]
  },
  {
   "cell_type": "markdown",
   "metadata": {},
   "source": [
    "* // operator"
   ]
  },
  {
   "cell_type": "code",
   "execution_count": null,
   "metadata": {},
   "outputs": [],
   "source": [
    "# // operator is interger division\n",
    "a = 5.5\n",
    "\n",
    "print(a // 2)"
   ]
  },
  {
   "cell_type": "markdown",
   "metadata": {},
   "source": [
    "# The most dangerous functions ever designed by mankind"
   ]
  },
  {
   "cell_type": "markdown",
   "metadata": {},
   "source": [
    "* eval() - evaluate a string as an expression"
   ]
  },
  {
   "cell_type": "code",
   "execution_count": null,
   "metadata": {},
   "outputs": [],
   "source": [
    "b = 4\n",
    "g = \"47 + b**2\"\n",
    "\n",
    "\n",
    "print(eval(g))"
   ]
  },
  {
   "cell_type": "markdown",
   "metadata": {},
   "source": [
    "* exec() - evaluate a string as a statement"
   ]
  },
  {
   "cell_type": "code",
   "execution_count": null,
   "metadata": {},
   "outputs": [],
   "source": [
    "b = 4\n",
    "g = \"c = 47 + b**2\"\n",
    "\n",
    "exec(g)\n",
    "\n",
    "print(c)"
   ]
  },
  {
   "cell_type": "markdown",
   "metadata": {},
   "source": [
    "# Do Not Use unless the fate of the world depends on it, even then, at least hesitate"
   ]
  }
 ],
 "metadata": {
  "kernelspec": {
   "display_name": "CnC",
   "language": "python",
   "name": "python3"
  },
  "language_info": {
   "codemirror_mode": {
    "name": "ipython",
    "version": 3
   },
   "file_extension": ".py",
   "mimetype": "text/x-python",
   "name": "python",
   "nbconvert_exporter": "python",
   "pygments_lexer": "ipython3",
   "version": "3.9.18"
  }
 },
 "nbformat": 4,
 "nbformat_minor": 2
}
