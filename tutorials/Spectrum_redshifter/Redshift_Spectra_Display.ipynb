{
 "cells": [
  {
   "cell_type": "markdown",
   "metadata": {},
   "source": [
    "Aim: is for this notebook to plot a spectra with some sliding vertical lines to allow you to visualise the redshift of a file!\n",
    "\n",
    "Jonah Gannon March 2020 - Swinburne PhD student\n",
    "\n",
    "Works on Ubuntu 18.04 LTS\n",
    "\n",
    "Only applicable to the local universe due to 1+z approximation for redshifting of lines"
   ]
  },
  {
   "cell_type": "code",
   "execution_count": 4,
   "metadata": {
    "jupyter": {
     "is_executing": true
    }
   },
   "outputs": [],
   "source": [
    "from __future__ import print_function\n",
    "from ipywidgets import interact, interactive, fixed, interact_manual\n",
    "import ipywidgets as widgets\n",
    "import matplotlib.pyplot as plt, random\n",
    "from astropy.io import fits\n",
    "import numpy as np\n",
    "import scipy.ndimage as ndi\n",
    "\n",
    "###################### DEFINE THE FILE TO READ IN ###########################################\n",
    "science_file = '/home/gannonjs/Dropbox/CnC_Ice_Cream_Edition/spectra/File 2.fits'\n",
    "#############################################################################################\n",
    "\n",
    "spectra = fits.open(science_file)[0].data\n",
    "header = fits.open(science_file)[0].header\n",
    "wavelength = np.linspace(header['CRVAL1'], header['CRVAL1']+header['CDELT1'] * (spectra.shape[0]-1), spectra.shape[0])\n",
    "\n",
    "plt.rcParams.update({'font.size': 18})\n",
    "plt.rcParams.update({'axes.linewidth': 3})\n",
    "plt.rcParams.update({'xtick.major.width':3})\n",
    "plt.rcParams.update({'ytick.major.width':3})\n",
    "\n",
    "plt.rcParams.update({'xtick.minor.width':3})\n",
    "plt.rcParams.update({'ytick.minor.width':3})\n",
    "\n",
    "plt.rcParams.update({'xtick.minor.size':8})\n",
    "plt.rcParams.update({'ytick.minor.size':8})\n",
    "\n",
    "plt.rcParams.update({'xtick.major.size':10})\n",
    "plt.rcParams.update({'ytick.major.size':10})"
   ]
  },
  {
   "cell_type": "code",
   "execution_count": 5,
   "metadata": {
    "jupyter": {
     "is_executing": true
    }
   },
   "outputs": [],
   "source": [
    "def spectra_redshifter(z, smooth = False, xlim = (min(wavelength), max(wavelength)),ylim = (min(spectra), max(spectra))):\n",
    "    fig = plt.figure(1, figsize = (18,8))\n",
    "    ax = plt.subplot(111)\n",
    "    \n",
    "    if smooth == True:\n",
    "        ax.plot(wavelength, ndi.gaussian_filter1d(spectra, sigma = 1/header['CDELT1']/2.354), 'k-', lw=2, drawstyle='steps-mid')\n",
    "    else:\n",
    "        ax.plot(wavelength,spectra, 'k-', lw=2, drawstyle='steps-mid')\n",
    "    \n",
    "    ax.set_ylabel(\"Relative Flux\")\n",
    "    ax.set_xlabel('Wavelength [$\\AA$]')\n",
    "    \n",
    "    ax.set_xlim(xlim)\n",
    "    ax.set_ylim(ylim)\n",
    "    \n",
    "    # hbeta\n",
    "    ax.axvline(4861.34 * (1+z), 0, 1, color='red', alpha = 0.66, lw = 2)\n",
    "    \n",
    "    # hgamma\n",
    "    ax.axvline(4340.47 * (1+z), 0, 1, color='red', alpha = 0.66, lw = 2)\n",
    "    \n",
    "    # hdelta a/f\n",
    "    ax.axvline(4104.03 * (1+z), 0, 1, color='red', alpha = 0.66, lw = 2)\n",
    "    ax.axvline(4102.78 * (1+z), 0, 1, color='red', alpha = 0.66, lw = 2)\n",
    "    \n",
    "    # h8/h9/10\n",
    "    ax.axvline(3889.1 * (1+z), 0, 1, color='red', alpha = 0.66, lw = 2)\n",
    "    ax.axvline(3835 * (1+z), 0, 1, color='red', alpha = 0.66, lw = 2)\n",
    "    ax.axvline(3798 * (1+z), 0, 1, color='red', alpha = 0.66, lw = 2)\n",
    "    \n",
    "    # Ca H/K \n",
    "    ax.axvline(3934.777 * (1+z), 0, 1, color='blue', alpha = 0.66, lw = 2)\n",
    "    ax.axvline(3969.588 * (1+z), 0, 1, color='blue', alpha = 0.66, lw = 2)\n",
    "    \n",
    "    \n",
    "    #mgb triplet\n",
    "    ax.axvline(5167.3 * (1+z), 0, 1, color='green', alpha = 0.66, lw = 2)\n",
    "    ax.axvline(5172.7 * (1+z), 0, 1, color='green', alpha = 0.66, lw = 2)\n",
    "    ax.axvline(5183.6 * (1+z), 0, 1, color='green', alpha = 0.66, lw = 2)\n",
    "    \n",
    "    #Fe lines? \n",
    "    ax.axvline(4957.6 * (1+z), 0, 1, color='gray', alpha = 0.5, ls='--')\n",
    "    #ax.axvline(5015 * (1+z), 0, 1, color='gray', alpha = 0.5, ls='--')\n",
    "    ax.axvline(5270 * (1+z), 0, 1, color='gray', alpha = 0.5, ls='--')\n",
    "    ax.axvline(5355 * (1+z), 0, 1, color='gray', alpha = 0.5, ls='--')    \n",
    "    \n",
    "    return()"
   ]
  },
  {
   "cell_type": "code",
   "execution_count": 6,
   "metadata": {
    "jupyter": {
     "is_executing": true
    }
   },
   "outputs": [
    {
     "data": {
      "application/vnd.jupyter.widget-view+json": {
       "model_id": "39a58d46a60f466aba61176f31f95c2a",
       "version_major": 2,
       "version_minor": 0
      },
      "text/plain": [
       "interactive(children=(FloatSlider(value=0.0, description='z', max=0.05, readout_format='.4f', step=0.0005), Ch…"
      ]
     },
     "metadata": {},
     "output_type": "display_data"
    },
    {
     "data": {
      "text/plain": [
       "<function __main__.spectra_redshifter(z, smooth=False, xlim=(3632.0, 5624.0), ylim=(-0.01340925129059789, 0.01531186351930347))>"
      ]
     },
     "execution_count": 6,
     "metadata": {},
     "output_type": "execute_result"
    }
   ],
   "source": [
    "interact(spectra_redshifter,\n",
    "         z=widgets.FloatSlider(value = 0, min=0, max = 0.05, step = 0.0005, readout_format = '.4f'),\n",
    "         smooth = widgets.Checkbox(value = False, description = '1 Å smooth?'),\n",
    "         xlim = widgets.FloatRangeSlider(value = (min(wavelength), max(wavelength)), min = min(wavelength), max = max(wavelength), readout_format='.3f'),\n",
    "         ylim = widgets.FloatRangeSlider(value = (min(spectra[100:-100]), max(spectra[100:-100])), min = min(spectra[100:-100]), max = max(spectra[100:-100])), readout_format='.3f')"
   ]
  },
  {
   "cell_type": "code",
   "execution_count": null,
   "metadata": {},
   "outputs": [],
   "source": []
  }
 ],
 "metadata": {
  "kernelspec": {
   "display_name": "Python 3 (ipykernel)",
   "language": "python",
   "name": "python3"
  },
  "language_info": {
   "codemirror_mode": {
    "name": "ipython",
    "version": 3
   },
   "file_extension": ".py",
   "mimetype": "text/x-python",
   "name": "python",
   "nbconvert_exporter": "python",
   "pygments_lexer": "ipython3",
   "version": "3.7.16"
  }
 },
 "nbformat": 4,
 "nbformat_minor": 2
}
