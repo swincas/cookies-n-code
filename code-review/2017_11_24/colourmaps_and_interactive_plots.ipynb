{
 "cells": [
  {
   "cell_type": "markdown",
   "metadata": {},
   "source": [
    "# Pretty please"
   ]
  },
  {
   "cell_type": "markdown",
   "metadata": {},
   "source": [
    "## **Don't let your plots be default.** \n",
    "This code review will is about: multiple tools that are available for **making Figures** in python (at least the ones that I use); creating custom **colour-maps** and generating **interactive plots** with the **Bokeh** package"
   ]
  },
  {
   "cell_type": "markdown",
   "metadata": {
    "collapsed": true
   },
   "source": [
    "### Plotting tools:\n",
    "\n",
    "[matplotlib](https://matplotlib.org/)\n",
    "<br>\n",
    "[seaborn](https://seaborn.pydata.org/)\n",
    "<br>\n",
    "\n",
    "### Colours and colour maps:\n",
    "\n",
    "[Python colormaps](https://matplotlib.org/examples/color/colormaps_reference.html)\n",
    "<br>\n",
    "[iWantHue](http://tools.medialab.sciences-po.fr/iwanthue/)\n",
    "<br>\n",
    "[100 Color Combinations](https://designschool.canva.com/blog/100-color-combinations/)\n",
    "<br>\n",
    "[Flat](http://www.flatuicolorpicker.com/)\n",
    "\n",
    "### Interactive plots:\n",
    "\n",
    "[bokeh](https://bokeh.pydata.org/en/latest/)\n",
    "\n",
    "And many, many, many, many more are out there."
   ]
  },
  {
   "cell_type": "markdown",
   "metadata": {},
   "source": [
    "# Why?"
   ]
  },
  {
   "cell_type": "markdown",
   "metadata": {},
   "source": [
    "### Paper source: [ArXiv](https://arxiv.org/pdf/1711.04867.pdf)\n",
    "\n",
    "Figure 4. | Figure B2.\n",
    ":---: | :---:\n",
    "![alt](example1.png) | ![alt](example.png)\n"
   ]
  },
  {
   "cell_type": "markdown",
   "metadata": {},
   "source": [
    "### Paper source: [ArXiv](https://arxiv.org/abs/1710.01399v1)\n",
    "\n",
    "![alt](Rainbow.png)\n",
    "\n"
   ]
  },
  {
   "cell_type": "markdown",
   "metadata": {},
   "source": [
    "### Paper source: [ArXiv](https://arxiv.org/pdf/1604.00016v1.pdf)\n",
    "\n",
    "Figure 9. | Figure 16.\n",
    ":---: | :---:\n",
    "![alt](ImageR.png) | ![alt](Shaded.png)"
   ]
  },
  {
   "cell_type": "markdown",
   "metadata": {},
   "source": [
    "### Paper source: [ArXiv](https://arxiv.org/pdf/1706.05199.pdf)\n",
    "\n",
    "Figure 4. (Here is only a half of the Figure)\n",
    "\n",
    "![alt](NotOriginal.png)"
   ]
  },
  {
   "cell_type": "markdown",
   "metadata": {},
   "source": [
    "Figure 6.\n",
    "![alt](More.png)"
   ]
  },
  {
   "cell_type": "markdown",
   "metadata": {},
   "source": [
    "# Colour maps\n",
    "## seaborn.cubehelix_palette\n",
    "[Cool colormaps](http://seaborn.pydata.org/generated/seaborn.cubehelix_palette.html#seaborn-cubehelix-palette): they are **pretty**, they **preserve information** if printed to black and white and they are **colorblind friendly**. "
   ]
  },
  {
   "cell_type": "code",
   "execution_count": 1,
   "metadata": {
    "collapsed": true
   },
   "outputs": [],
   "source": [
    "import matplotlib.pyplot as plt\n",
    "import seaborn as sns\n",
    "import numpy as np\n"
   ]
  },
  {
   "cell_type": "code",
   "execution_count": 64,
   "metadata": {},
   "outputs": [
    {
     "data": {
      "image/png": "[encoded data removed]",
      "text/plain": [
       "<matplotlib.figure.Figure at 0x7fdd053ef470>"
      ]
     },
     "metadata": {},
     "output_type": "display_data"
    },
    {
     "data": {
      "image/png": "[encoded data removed]",
      "text/plain": [
       "<matplotlib.figure.Figure at 0x7fdd053ef9e8>"
      ]
     },
     "metadata": {},
     "output_type": "display_data"
    },
    {
     "data": {
      "image/png": "[encoded data removed]",
      "text/plain": [
       "<matplotlib.figure.Figure at 0x7fdd05beb550>"
      ]
     },
     "metadata": {},
     "output_type": "display_data"
    }
   ],
   "source": [
    "sns.palplot(sns.cubehelix_palette())\n",
    "#sns.palplot(sns.cubehelix_palette(n_colors=6, start=0, rot=0.4, gamma=1.0,\n",
    "#                              hue=0.8, light=0.85, dark=0.15, reverse=False, as_cmap=False))\n",
    "\n",
    "sns.palplot(sns.cubehelix_palette(rot=-.3))\n",
    "sns.palplot(sns.cubehelix_palette(start=1.8, rot=0, hue=.2))\n",
    "\n",
    "plt.show()"
   ]
  },
  {
   "cell_type": "code",
   "execution_count": 12,
   "metadata": {},
   "outputs": [],
   "source": [
    "#help(sns.cubehelix_palette)"
   ]
  },
  {
   "cell_type": "markdown",
   "metadata": {},
   "source": [
    "## Do it interactively: "
   ]
  },
  {
   "cell_type": "code",
   "execution_count": 34,
   "metadata": {},
   "outputs": [
    {
     "data": {
      "application/vnd.jupyter.widget-view+json": {
       "model_id": "fa4c92674ac64f2cac99b65fb6ac0c0f",
       "version_major": 2,
       "version_minor": 0
      },
      "text/plain": [
       "A Jupyter Widget"
      ]
     },
     "metadata": {},
     "output_type": "display_data"
    },
    {
     "data": {
      "image/png": "[encoded data removed]",
      "text/plain": [
       "<matplotlib.figure.Figure at 0x7fdd053a3b00>"
      ]
     },
     "metadata": {},
     "output_type": "display_data"
    }
   ],
   "source": [
    "from ipywidgets import interact, FloatSlider\n",
    "#data_type : {‘sequential’, ‘diverging’, ‘qualitative’}\n",
    "sns.choose_colorbrewer_palette('sequential');\n",
    "plt.show()"
   ]
  },
  {
   "cell_type": "code",
   "execution_count": 37,
   "metadata": {},
   "outputs": [
    {
     "data": {
      "image/png": "[encoded data removed]",
      "text/plain": [
       "<matplotlib.figure.Figure at 0x7fdd40723320>"
      ]
     },
     "metadata": {},
     "output_type": "display_data"
    }
   ],
   "source": [
    "plt.show()"
   ]
  },
  {
   "cell_type": "markdown",
   "metadata": {},
   "source": [
    "See maps, light to dark . Example and explanation of the arguments are taken from [Reference](https://edwards.sdsu.edu/research/python-dataviz-seaborn-heatmap-palettes/). Try to rotate map (rotate about the hue wheel).\n",
    "<br>\n",
    "\n",
    "**sns.palplot()**: Utility function to plot out these palettes\n",
    "<br>\n",
    "**n_colors**: Specify the number of unique colors to use in the palette\n",
    "<br>\n",
    "**start**: The starting hue value\n",
    "<br>\n",
    "**rot**: The number of rotations to go about the hue wheel over the course of the palette\n",
    "<br>\n",
    "**light**: Between 0 and 1, the intensity of the lightest color (start value)\n",
    "<br>\n",
    "**dark**: Between 0 and 1, the intensity of the darkest color (final value)\n"
   ]
  },
  {
   "cell_type": "code",
   "execution_count": 61,
   "metadata": {},
   "outputs": [
    {
     "data": {
      "image/png": "[encoded data removed]",
      "text/plain": [
       "<matplotlib.figure.Figure at 0x7fdd045e17b8>"
      ]
     },
     "metadata": {},
     "output_type": "display_data"
    },
    {
     "data": {
      "image/png": "[encoded data removed]",
      "text/plain": [
       "<matplotlib.figure.Figure at 0x7fdd04912710>"
      ]
     },
     "metadata": {},
     "output_type": "display_data"
    },
    {
     "data": {
      "image/png": "[encoded data removed]",
      "text/plain": [
       "<matplotlib.figure.Figure at 0x7fdd043afd68>"
      ]
     },
     "metadata": {},
     "output_type": "display_data"
    },
    {
     "data": {
      "image/png": "[encoded data removed]",
      "text/plain": [
       "<matplotlib.figure.Figure at 0x7fdd04456898>"
      ]
     },
     "metadata": {},
     "output_type": "display_data"
    },
    {
     "data": {
      "image/png": "[encoded data removed]",
      "text/plain": [
       "<matplotlib.figure.Figure at 0x7fdd04a58748>"
      ]
     },
     "metadata": {},
     "output_type": "display_data"
    },
    {
     "data": {
      "image/png": "[encoded data removed]",
      "text/plain": [
       "<matplotlib.figure.Figure at 0x7fdd046223c8>"
      ]
     },
     "metadata": {},
     "output_type": "display_data"
    },
    {
     "data": {
      "image/png": "[encoded data removed]",
      "text/plain": [
       "<matplotlib.figure.Figure at 0x7fdd0478f0f0>"
      ]
     },
     "metadata": {},
     "output_type": "display_data"
    },
    {
     "data": {
      "image/png": "[encoded data removed]",
      "text/plain": [
       "<matplotlib.figure.Figure at 0x7fdd04410cf8>"
      ]
     },
     "metadata": {},
     "output_type": "display_data"
    },
    {
     "data": {
      "image/png": "[encoded data removed]",
      "text/plain": [
       "<matplotlib.figure.Figure at 0x7fdd04474c50>"
      ]
     },
     "metadata": {},
     "output_type": "display_data"
    },
    {
     "data": {
      "image/png": "[encoded data removed]",
      "text/plain": [
       "<matplotlib.figure.Figure at 0x7fdd04b496a0>"
      ]
     },
     "metadata": {},
     "output_type": "display_data"
    },
    {
     "data": {
      "image/png": "[encoded data removed]",
      "text/plain": [
       "<matplotlib.figure.Figure at 0x7fdd054b6da0>"
      ]
     },
     "metadata": {},
     "output_type": "display_data"
    },
    {
     "data": {
      "image/png": "[encoded data removed]",
      "text/plain": [
       "<matplotlib.figure.Figure at 0x7fdd046b37f0>"
      ]
     },
     "metadata": {},
     "output_type": "display_data"
    }
   ],
   "source": [
    "for x in np.arange(start=0, stop=3, step=0.25):\n",
    "    sns.palplot(sns.cubehelix_palette(n_colors=20, start=x, rot=0, light=0.7, dark=0))\n",
    "plt.show()"
   ]
  },
  {
   "cell_type": "code",
   "execution_count": 48,
   "metadata": {},
   "outputs": [
    {
     "data": {
      "image/png": "[encoded data removed]",
      "text/plain": [
       "<matplotlib.figure.Figure at 0x7fdd05311400>"
      ]
     },
     "metadata": {},
     "output_type": "display_data"
    }
   ],
   "source": [
    "sns.palplot(sns.cubehelix_palette(50, hue=0.05, rot=0, light=0.9, dark=0))\n",
    "plt.show()"
   ]
  },
  {
   "cell_type": "markdown",
   "metadata": {},
   "source": [
    "\n",
    "## There are plenty colors to pick from, make your own color-scheme, be consistent, love to look at your plots <3\n"
   ]
  },
  {
   "cell_type": "markdown",
   "metadata": {
    "collapsed": true
   },
   "source": [
    "# Rainbow vs. RdYlBu\n",
    "### Moment 1 maps (Velocity maps; code is in the separate jupyter notebook together with the .fits files): \n",
    "This galaxy was part of the tutorial exercices at the Radio Astronomy School held in Harrabri 2017 - and as you can see, these are **not the final maps!**):\n",
    "\n",
    "NGC253 | NGC253\n",
    ":---: | :---:\n",
    "![alt](ugly.png) | ![alt](RvsR2.png)"
   ]
  },
  {
   "cell_type": "markdown",
   "metadata": {},
   "source": [
    "# Rainbow vs. Palette\n",
    "## Column density contours; code is in the separate jupyter notebook together with the .fits files):\n",
    "\n",
    "NGC253 | NGC253\n",
    ":---: | :---:\n",
    "![alt](RainbowCont.png) | ![alt](Pallete1.png)"
   ]
  },
  {
   "cell_type": "markdown",
   "metadata": {},
   "source": [
    "# Make your own colourmap\n",
    "For making these examples, recompiled catalogs of the Hickson Compact Groups (HCG) are used. References:\n",
    "[Hickson P. 1982](http://cdsads.u-strasbg.fr/cgi-bin/nph-iarticle_query?1982ApJ...255..382H&amp;data_type=PDF_HIGH&amp;whole_paper=YES&amp;type=PRINTER&amp;filetype=.pdf); \n",
    "[Borthakur et. al 2010](http://iopscience.iop.org/article/10.1088/0004-637X/710/1/385/pdf); \n",
    "[Verdes-Montenegro et. al](https://www.aanda.org/articles/aa/pdf/2001/39/aah2853.pdf).\n"
   ]
  },
  {
   "cell_type": "code",
   "execution_count": 6,
   "metadata": {
    "collapsed": true
   },
   "outputs": [],
   "source": [
    "#Input files\n",
    "MHI_Verdes, DEF_Verdes, GAP_Verdes, HCG = np.loadtxt('HCG_Verdes', usecols = (0,1,2,3), unpack=True)\n",
    "MHI_Verdes_lim, DEF_Verdes_lim, GAP_Verdes_lim, HCG_lim = np.loadtxt('HCG_Verdes_limits', usecols = (0,1,2,3), unpack=True)\n",
    "MHI_Verdes_sp, DEF_Verdes_sp, GAP_Verdes_sp, HCG_sp = np.loadtxt('HCG_Verdes_spiral', usecols = (0,1,2,3), unpack=True)\n"
   ]
  },
  {
   "cell_type": "code",
   "execution_count": 88,
   "metadata": {
    "collapsed": true
   },
   "outputs": [],
   "source": [
    "#MAKE COLORMAP\n",
    "#Simple:\n",
    "import matplotlib.colors\n",
    "cmap = matplotlib.colors.LinearSegmentedColormap.from_list(\"\", [\"red\",\"gold\",\"grey\", 'black'])\n"
   ]
  },
  {
   "cell_type": "code",
   "execution_count": 86,
   "metadata": {},
   "outputs": [
    {
     "data": {
      "image/png": "[encoded data removed]",
      "text/plain": [
       "<matplotlib.figure.Figure at 0x7fdd05b32390>"
      ]
     },
     "metadata": {},
     "output_type": "display_data"
    }
   ],
   "source": [
    "#Plot\n",
    "#Set figure\n",
    "fig = plt.figure(figsize=(8,8))                                                               \n",
    "ax = fig.add_subplot(1,1,1)\n",
    "#Setting tick size and direction inwards or outwards\n",
    "sns.set(font_scale=1.4)\n",
    "sns.set_style(\"ticks\", {\"xtick.major.size\":5, \"ytick.major.size\":5,\n",
    "                        \"xtick.minor.size\":3,\"ytick.minor.size\":3,\n",
    "                       \"xtick.direction\": \"in\",\"ytick.direction\": \"in\"})\n",
    "#Ticks on both axis\n",
    "ax.yaxis.set_ticks_position('both')\n",
    "ax.xaxis.set_ticks_position('both')\n",
    "\n",
    "#Set minor ticks spacing on axis\n",
    "minor_ticks=np.arange(8.5, 12, 0.1)                                               \n",
    "ax.set_xticks(minor_ticks, minor=True)\n",
    "minor_ticks=np.arange(8.5, 12, 0.1)                                              \n",
    "ax.set_yticks(minor_ticks, minor=True);\n",
    "\n",
    "plt.scatter(MHI_Verdes+DEF_Verdes, MHI_Verdes, c=GAP_Verdes,  s=85, cmap=cmap, label='HCG')\n",
    "x=np.array([8.5,9,10,11])\n",
    "y=x\n",
    "plt.plot(x,y, color='k', linewidth=1)\n",
    "plt.colorbar(label='Gap [mag]', fraction=0.046, pad=0.04)\n",
    "plt.ylabel(r'log M$_{\\mathrm{HI}_{\\mathrm{obs}}}$ [M$_{\\odot}$]', fontsize=22)\n",
    "plt.xlabel(r'log M$_{\\mathrm{HI}_{\\mathrm{exp}}}$ [M$_{\\odot}$]', fontsize=22)\n",
    "\n",
    "lims = [\n",
    "    np.min([ax.get_xlim(), ax.get_ylim()]),\n",
    "    np.max([ax.get_xlim(), ax.get_ylim()]),]\n",
    "ax.plot(lims, lims, color='grey', linestyle='-', linewidth=1)\n",
    "ax.set_aspect('equal')\n",
    "ax.set_xlim(lims)\n",
    "ax.set_ylim(lims)\n",
    "\n",
    "\n",
    "plt.show()"
   ]
  },
  {
   "cell_type": "markdown",
   "metadata": {},
   "source": [
    "# Bokeh:"
   ]
  },
  {
   "cell_type": "markdown",
   "metadata": {
    "collapsed": true
   },
   "source": [
    "### VERY COOL and plenty Jupyter notebooks with [Bokeh](https://github.com/bokeh/bokeh-notebooks)\n",
    "HCG data for these examples are as referenced above next to colourmaps."
   ]
  },
  {
   "cell_type": "code",
   "execution_count": 65,
   "metadata": {},
   "outputs": [
    {
     "data": {
      "text/html": [
       "\n",
       "    <div class=\"bk-root\">\n",
       "        <a href=\"https://bokeh.pydata.org\" target=\"_blank\" class=\"bk-logo bk-logo-small bk-logo-notebook\"></a>\n",
       "        <span id=\"2b1d9902-ecd0-4cf1-abd1-94221943b66f\">Loading BokehJS ...</span>\n",
       "    </div>"
      ]
     },
     "metadata": {},
     "output_type": "display_data"
    },
    {
     "data": {
      "application/javascript": [
       "\n",
       "(function(root) {\n",
       "  function now() {\n",
       "    return new Date();\n",
       "  }\n",
       "\n",
       "  var force = true;\n",
       "\n",
       "  if (typeof (root._bokeh_onload_callbacks) === \"undefined\" || force === true) {\n",
       "    root._bokeh_onload_callbacks = [];\n",
       "    root._bokeh_is_loading = undefined;\n",
       "  }\n",
       "\n",
       "  var JS_MIME_TYPE = 'application/javascript';\n",
       "  var HTML_MIME_TYPE = 'text/html';\n",
       "  var EXEC_MIME_TYPE = 'application/vnd.bokehjs_exec.v0+json';\n",
       "  var CLASS_NAME = 'output_bokeh rendered_html';\n",
       "\n",
       "  /**\n",
       "   * Render data to the DOM node\n",
       "   */\n",
       "  function render(props, node) {\n",
       "    var script = document.createElement(\"script\");\n",
       "    node.appendChild(script);\n",
       "  }\n",
       "\n",
       "  /**\n",
       "   * Handle when an output is cleared or removed\n",
       "   */\n",
       "  function handleClearOutput(event, handle) {\n",
       "    var cell = handle.cell;\n",
       "\n",
       "    var id = cell.output_area._bokeh_element_id;\n",
       "    var server_id = cell.output_area._bokeh_server_id;\n",
       "    // Clean up Bokeh references\n",
       "    if (id !== undefined) {\n",
       "      Bokeh.index[id].model.document.clear();\n",
       "      delete Bokeh.index[id];\n",
       "    }\n",
       "\n",
       "    if (server_id !== undefined) {\n",
       "      // Clean up Bokeh references\n",
       "      var cmd = \"from bokeh.io.state import curstate; print(curstate().uuid_to_server['\" + server_id + \"'].get_sessions()[0].document.roots[0]._id)\";\n",
       "      cell.notebook.kernel.execute(cmd, {\n",
       "        iopub: {\n",
       "          output: function(msg) {\n",
       "            var element_id = msg.content.text.trim();\n",
       "            Bokeh.index[element_id].model.document.clear();\n",
       "            delete Bokeh.index[element_id];\n",
       "          }\n",
       "        }\n",
       "      });\n",
       "      // Destroy server and session\n",
       "      var cmd = \"import bokeh.io.notebook as ion; ion.destroy_server('\" + server_id + \"')\";\n",
       "      cell.notebook.kernel.execute(cmd);\n",
       "    }\n",
       "  }\n",
       "\n",
       "  /**\n",
       "   * Handle when a new output is added\n",
       "   */\n",
       "  function handleAddOutput(event, handle) {\n",
       "    var output_area = handle.output_area;\n",
       "    var output = handle.output;\n",
       "\n",
       "    // limit handleAddOutput to display_data with EXEC_MIME_TYPE content only\n",
       "    if ((output.output_type != \"display_data\") || (!output.data.hasOwnProperty(EXEC_MIME_TYPE))) {\n",
       "      return\n",
       "    }\n",
       "\n",
       "    var toinsert = output_area.element.find(`.${CLASS_NAME.split(' ')[0]}`);\n",
       "\n",
       "    if (output.metadata[EXEC_MIME_TYPE][\"id\"] !== undefined) {\n",
       "      toinsert[0].firstChild.textContent = output.data[JS_MIME_TYPE];\n",
       "      // store reference to embed id on output_area\n",
       "      output_area._bokeh_element_id = output.metadata[EXEC_MIME_TYPE][\"id\"];\n",
       "    }\n",
       "    if (output.metadata[EXEC_MIME_TYPE][\"server_id\"] !== undefined) {\n",
       "      var bk_div = document.createElement(\"div\");\n",
       "      bk_div.innerHTML = output.data[HTML_MIME_TYPE];\n",
       "      var script_attrs = bk_div.children[0].attributes;\n",
       "      for (var i = 0; i < script_attrs.length; i++) {\n",
       "        toinsert[0].firstChild.setAttribute(script_attrs[i].name, script_attrs[i].value);\n",
       "      }\n",
       "      // store reference to server id on output_area\n",
       "      output_area._bokeh_server_id = output.metadata[EXEC_MIME_TYPE][\"server_id\"];\n",
       "    }\n",
       "  }\n",
       "\n",
       "  function register_renderer(events, OutputArea) {\n",
       "\n",
       "    function append_mime(data, metadata, element) {\n",
       "      // create a DOM node to render to\n",
       "      var toinsert = this.create_output_subarea(\n",
       "        metadata,\n",
       "        CLASS_NAME,\n",
       "        EXEC_MIME_TYPE\n",
       "      );\n",
       "      this.keyboard_manager.register_events(toinsert);\n",
       "      // Render to node\n",
       "      var props = {data: data, metadata: metadata[EXEC_MIME_TYPE]};\n",
       "      render(props, toinsert[0]);\n",
       "      element.append(toinsert);\n",
       "      return toinsert\n",
       "    }\n",
       "\n",
       "    /* Handle when an output is cleared or removed */\n",
       "    events.on('clear_output.CodeCell', handleClearOutput);\n",
       "    events.on('delete.Cell', handleClearOutput);\n",
       "\n",
       "    /* Handle when a new output is added */\n",
       "    events.on('output_added.OutputArea', handleAddOutput);\n",
       "\n",
       "    /**\n",
       "     * Register the mime type and append_mime function with output_area\n",
       "     */\n",
       "    OutputArea.prototype.register_mime_type(EXEC_MIME_TYPE, append_mime, {\n",
       "      /* Is output safe? */\n",
       "      safe: true,\n",
       "      /* Index of renderer in `output_area.display_order` */\n",
       "      index: 0\n",
       "    });\n",
       "  }\n",
       "\n",
       "  // register the mime type if in Jupyter Notebook environment and previously unregistered\n",
       "  if (root.Jupyter !== undefined) {\n",
       "    var events = require('base/js/events');\n",
       "    var OutputArea = require('notebook/js/outputarea').OutputArea;\n",
       "\n",
       "    if (OutputArea.prototype.mime_types().indexOf(EXEC_MIME_TYPE) == -1) {\n",
       "      register_renderer(events, OutputArea);\n",
       "    }\n",
       "  }\n",
       "\n",
       "  \n",
       "  if (typeof (root._bokeh_timeout) === \"undefined\" || force === true) {\n",
       "    root._bokeh_timeout = Date.now() + 5000;\n",
       "    root._bokeh_failed_load = false;\n",
       "  }\n",
       "\n",
       "  var NB_LOAD_WARNING = {'data': {'text/html':\n",
       "     \"<div style='background-color: #fdd'>\\n\"+\n",
       "     \"<p>\\n\"+\n",
       "     \"BokehJS does not appear to have successfully loaded. If loading BokehJS from CDN, this \\n\"+\n",
       "     \"may be due to a slow or bad network connection. Possible fixes:\\n\"+\n",
       "     \"</p>\\n\"+\n",
       "     \"<ul>\\n\"+\n",
       "     \"<li>re-rerun `output_notebook()` to attempt to load from CDN again, or</li>\\n\"+\n",
       "     \"<li>use INLINE resources instead, as so:</li>\\n\"+\n",
       "     \"</ul>\\n\"+\n",
       "     \"<code>\\n\"+\n",
       "     \"from bokeh.resources import INLINE\\n\"+\n",
       "     \"output_notebook(resources=INLINE)\\n\"+\n",
       "     \"</code>\\n\"+\n",
       "     \"</div>\"}};\n",
       "\n",
       "  function display_loaded() {\n",
       "    var el = document.getElementById(\"2b1d9902-ecd0-4cf1-abd1-94221943b66f\");\n",
       "    if (el != null) {\n",
       "      el.textContent = \"BokehJS is loading...\";\n",
       "    }\n",
       "    if (root.Bokeh !== undefined) {\n",
       "      if (el != null) {\n",
       "        el.textContent = \"BokehJS \" + root.Bokeh.version + \" successfully loaded.\";\n",
       "      }\n",
       "    } else if (Date.now() < root._bokeh_timeout) {\n",
       "      setTimeout(display_loaded, 100)\n",
       "    }\n",
       "  }\n",
       "\n",
       "\n",
       "  function run_callbacks() {\n",
       "    try {\n",
       "      root._bokeh_onload_callbacks.forEach(function(callback) { callback() });\n",
       "    }\n",
       "    finally {\n",
       "      delete root._bokeh_onload_callbacks\n",
       "    }\n",
       "    console.info(\"Bokeh: all callbacks have finished\");\n",
       "  }\n",
       "\n",
       "  function load_libs(js_urls, callback) {\n",
       "    root._bokeh_onload_callbacks.push(callback);\n",
       "    if (root._bokeh_is_loading > 0) {\n",
       "      console.log(\"Bokeh: BokehJS is being loaded, scheduling callback at\", now());\n",
       "      return null;\n",
       "    }\n",
       "    if (js_urls == null || js_urls.length === 0) {\n",
       "      run_callbacks();\n",
       "      return null;\n",
       "    }\n",
       "    console.log(\"Bokeh: BokehJS not loaded, scheduling load and callback at\", now());\n",
       "    root._bokeh_is_loading = js_urls.length;\n",
       "    for (var i = 0; i < js_urls.length; i++) {\n",
       "      var url = js_urls[i];\n",
       "      var s = document.createElement('script');\n",
       "      s.src = url;\n",
       "      s.async = false;\n",
       "      s.onreadystatechange = s.onload = function() {\n",
       "        root._bokeh_is_loading--;\n",
       "        if (root._bokeh_is_loading === 0) {\n",
       "          console.log(\"Bokeh: all BokehJS libraries loaded\");\n",
       "          run_callbacks()\n",
       "        }\n",
       "      };\n",
       "      s.onerror = function() {\n",
       "        console.warn(\"failed to load library \" + url);\n",
       "      };\n",
       "      console.log(\"Bokeh: injecting script tag for BokehJS library: \", url);\n",
       "      document.getElementsByTagName(\"head\")[0].appendChild(s);\n",
       "    }\n",
       "  };var element = document.getElementById(\"2b1d9902-ecd0-4cf1-abd1-94221943b66f\");\n",
       "  if (element == null) {\n",
       "    console.log(\"Bokeh: ERROR: autoload.js configured with elementid '2b1d9902-ecd0-4cf1-abd1-94221943b66f' but no matching script tag was found. \")\n",
       "    return false;\n",
       "  }\n",
       "\n",
       "  var js_urls = [\"https://cdn.pydata.org/bokeh/release/bokeh-0.12.10.min.js\", \"https://cdn.pydata.org/bokeh/release/bokeh-widgets-0.12.10.min.js\", \"https://cdn.pydata.org/bokeh/release/bokeh-tables-0.12.10.min.js\", \"https://cdn.pydata.org/bokeh/release/bokeh-gl-0.12.10.min.js\"];\n",
       "\n",
       "  var inline_js = [\n",
       "    function(Bokeh) {\n",
       "      Bokeh.set_log_level(\"info\");\n",
       "    },\n",
       "    \n",
       "    function(Bokeh) {\n",
       "      \n",
       "    },\n",
       "    function(Bokeh) {\n",
       "      console.log(\"Bokeh: injecting CSS: https://cdn.pydata.org/bokeh/release/bokeh-0.12.10.min.css\");\n",
       "      Bokeh.embed.inject_css(\"https://cdn.pydata.org/bokeh/release/bokeh-0.12.10.min.css\");\n",
       "      console.log(\"Bokeh: injecting CSS: https://cdn.pydata.org/bokeh/release/bokeh-widgets-0.12.10.min.css\");\n",
       "      Bokeh.embed.inject_css(\"https://cdn.pydata.org/bokeh/release/bokeh-widgets-0.12.10.min.css\");\n",
       "      console.log(\"Bokeh: injecting CSS: https://cdn.pydata.org/bokeh/release/bokeh-tables-0.12.10.min.css\");\n",
       "      Bokeh.embed.inject_css(\"https://cdn.pydata.org/bokeh/release/bokeh-tables-0.12.10.min.css\");\n",
       "    }\n",
       "  ];\n",
       "\n",
       "  function run_inline_js() {\n",
       "    \n",
       "    if ((root.Bokeh !== undefined) || (force === true)) {\n",
       "      for (var i = 0; i < inline_js.length; i++) {\n",
       "        inline_js[i].call(root, root.Bokeh);\n",
       "      }if (force === true) {\n",
       "        display_loaded();\n",
       "      }} else if (Date.now() < root._bokeh_timeout) {\n",
       "      setTimeout(run_inline_js, 100);\n",
       "    } else if (!root._bokeh_failed_load) {\n",
       "      console.log(\"Bokeh: BokehJS failed to load within specified timeout.\");\n",
       "      root._bokeh_failed_load = true;\n",
       "    } else if (force !== true) {\n",
       "      var cell = $(document.getElementById(\"2b1d9902-ecd0-4cf1-abd1-94221943b66f\")).parents('.cell').data().cell;\n",
       "      cell.output_area.append_execute_result(NB_LOAD_WARNING)\n",
       "    }\n",
       "\n",
       "  }\n",
       "\n",
       "  if (root._bokeh_is_loading === 0) {\n",
       "    console.log(\"Bokeh: BokehJS loaded, going straight to plotting\");\n",
       "    run_inline_js();\n",
       "  } else {\n",
       "    load_libs(js_urls, function() {\n",
       "      console.log(\"Bokeh: BokehJS plotting callback run at\", now());\n",
       "      run_inline_js();\n",
       "    });\n",
       "  }\n",
       "}(window));"
      ],
      "application/vnd.bokehjs_load.v0+json": "\n(function(root) {\n  function now() {\n    return new Date();\n  }\n\n  var force = true;\n\n  if (typeof (root._bokeh_onload_callbacks) === \"undefined\" || force === true) {\n    root._bokeh_onload_callbacks = [];\n    root._bokeh_is_loading = undefined;\n  }\n\n  \n\n  \n  if (typeof (root._bokeh_timeout) === \"undefined\" || force === true) {\n    root._bokeh_timeout = Date.now() + 5000;\n    root._bokeh_failed_load = false;\n  }\n\n  var NB_LOAD_WARNING = {'data': {'text/html':\n     \"<div style='background-color: #fdd'>\\n\"+\n     \"<p>\\n\"+\n     \"BokehJS does not appear to have successfully loaded. If loading BokehJS from CDN, this \\n\"+\n     \"may be due to a slow or bad network connection. Possible fixes:\\n\"+\n     \"</p>\\n\"+\n     \"<ul>\\n\"+\n     \"<li>re-rerun `output_notebook()` to attempt to load from CDN again, or</li>\\n\"+\n     \"<li>use INLINE resources instead, as so:</li>\\n\"+\n     \"</ul>\\n\"+\n     \"<code>\\n\"+\n     \"from bokeh.resources import INLINE\\n\"+\n     \"output_notebook(resources=INLINE)\\n\"+\n     \"</code>\\n\"+\n     \"</div>\"}};\n\n  function display_loaded() {\n    var el = document.getElementById(\"2b1d9902-ecd0-4cf1-abd1-94221943b66f\");\n    if (el != null) {\n      el.textContent = \"BokehJS is loading...\";\n    }\n    if (root.Bokeh !== undefined) {\n      if (el != null) {\n        el.textContent = \"BokehJS \" + root.Bokeh.version + \" successfully loaded.\";\n      }\n    } else if (Date.now() < root._bokeh_timeout) {\n      setTimeout(display_loaded, 100)\n    }\n  }\n\n\n  function run_callbacks() {\n    try {\n      root._bokeh_onload_callbacks.forEach(function(callback) { callback() });\n    }\n    finally {\n      delete root._bokeh_onload_callbacks\n    }\n    console.info(\"Bokeh: all callbacks have finished\");\n  }\n\n  function load_libs(js_urls, callback) {\n    root._bokeh_onload_callbacks.push(callback);\n    if (root._bokeh_is_loading > 0) {\n      console.log(\"Bokeh: BokehJS is being loaded, scheduling callback at\", now());\n      return null;\n    }\n    if (js_urls == null || js_urls.length === 0) {\n      run_callbacks();\n      return null;\n    }\n    console.log(\"Bokeh: BokehJS not loaded, scheduling load and callback at\", now());\n    root._bokeh_is_loading = js_urls.length;\n    for (var i = 0; i < js_urls.length; i++) {\n      var url = js_urls[i];\n      var s = document.createElement('script');\n      s.src = url;\n      s.async = false;\n      s.onreadystatechange = s.onload = function() {\n        root._bokeh_is_loading--;\n        if (root._bokeh_is_loading === 0) {\n          console.log(\"Bokeh: all BokehJS libraries loaded\");\n          run_callbacks()\n        }\n      };\n      s.onerror = function() {\n        console.warn(\"failed to load library \" + url);\n      };\n      console.log(\"Bokeh: injecting script tag for BokehJS library: \", url);\n      document.getElementsByTagName(\"head\")[0].appendChild(s);\n    }\n  };var element = document.getElementById(\"2b1d9902-ecd0-4cf1-abd1-94221943b66f\");\n  if (element == null) {\n    console.log(\"Bokeh: ERROR: autoload.js configured with elementid '2b1d9902-ecd0-4cf1-abd1-94221943b66f' but no matching script tag was found. \")\n    return false;\n  }\n\n  var js_urls = [\"https://cdn.pydata.org/bokeh/release/bokeh-0.12.10.min.js\", \"https://cdn.pydata.org/bokeh/release/bokeh-widgets-0.12.10.min.js\", \"https://cdn.pydata.org/bokeh/release/bokeh-tables-0.12.10.min.js\", \"https://cdn.pydata.org/bokeh/release/bokeh-gl-0.12.10.min.js\"];\n\n  var inline_js = [\n    function(Bokeh) {\n      Bokeh.set_log_level(\"info\");\n    },\n    \n    function(Bokeh) {\n      \n    },\n    function(Bokeh) {\n      console.log(\"Bokeh: injecting CSS: https://cdn.pydata.org/bokeh/release/bokeh-0.12.10.min.css\");\n      Bokeh.embed.inject_css(\"https://cdn.pydata.org/bokeh/release/bokeh-0.12.10.min.css\");\n      console.log(\"Bokeh: injecting CSS: https://cdn.pydata.org/bokeh/release/bokeh-widgets-0.12.10.min.css\");\n      Bokeh.embed.inject_css(\"https://cdn.pydata.org/bokeh/release/bokeh-widgets-0.12.10.min.css\");\n      console.log(\"Bokeh: injecting CSS: https://cdn.pydata.org/bokeh/release/bokeh-tables-0.12.10.min.css\");\n      Bokeh.embed.inject_css(\"https://cdn.pydata.org/bokeh/release/bokeh-tables-0.12.10.min.css\");\n    }\n  ];\n\n  function run_inline_js() {\n    \n    if ((root.Bokeh !== undefined) || (force === true)) {\n      for (var i = 0; i < inline_js.length; i++) {\n        inline_js[i].call(root, root.Bokeh);\n      }if (force === true) {\n        display_loaded();\n      }} else if (Date.now() < root._bokeh_timeout) {\n      setTimeout(run_inline_js, 100);\n    } else if (!root._bokeh_failed_load) {\n      console.log(\"Bokeh: BokehJS failed to load within specified timeout.\");\n      root._bokeh_failed_load = true;\n    } else if (force !== true) {\n      var cell = $(document.getElementById(\"2b1d9902-ecd0-4cf1-abd1-94221943b66f\")).parents('.cell').data().cell;\n      cell.output_area.append_execute_result(NB_LOAD_WARNING)\n    }\n\n  }\n\n  if (root._bokeh_is_loading === 0) {\n    console.log(\"Bokeh: BokehJS loaded, going straight to plotting\");\n    run_inline_js();\n  } else {\n    load_libs(js_urls, function() {\n      console.log(\"Bokeh: BokehJS plotting callback run at\", now());\n      run_inline_js();\n    });\n  }\n}(window));"
     },
     "metadata": {},
     "output_type": "display_data"
    }
   ],
   "source": [
    "from bokeh.io import output_notebook, show\n",
    "from bokeh.plotting import figure\n",
    "output_notebook()"
   ]
  },
  {
   "cell_type": "markdown",
   "metadata": {},
   "source": [
    "I investigate relation between three properties: HI mass, HI deficiency and the GAP parameter, and here are the regular plots for that."
   ]
  },
  {
   "cell_type": "code",
   "execution_count": 82,
   "metadata": {},
   "outputs": [
    {
     "data": {
      "image/png": "[encoded data removed]",
      "text/plain": [
       "<matplotlib.figure.Figure at 0x7fdd041857b8>"
      ]
     },
     "metadata": {},
     "output_type": "display_data"
    }
   ],
   "source": [
    "fig = plt.figure(figsize=(8,8))\n",
    "ax = fig.add_subplot(111)\n",
    "\n",
    "ax.plot(DEF_Verdes,GAP_Verdes, 'k*', color='k', markersize=18, label='Verdes-Montenegro et al. 2001')\n",
    "ax.plot(DEF_Verdes_lim,GAP_Verdes_lim, 'k*', color='k', markersize=18, alpha=0.5, label='Upper limits')\n",
    "ax.plot(DEF_Verdes_sp,GAP_Verdes_sp, 'k*', color='plum', markersize=18, label='Spirals')\n",
    "\n",
    "\n",
    "a = -0.6\n",
    "b = 0.6\n",
    "plt.axvspan(a, b, color='lightgrey', alpha=0.3, lw=0)\n",
    "plt.axvspan(a+0.2, b-0.2, color='lightgrey', alpha=0.3, lw=0)\n",
    "\n",
    "plt.text(0.15, 0.92, 'HI Excess', color = 'grey',transform=ax.transAxes, fontsize=18)\n",
    "plt.text(0.68, 0.92, 'HI Deficient', color = 'grey',transform=ax.transAxes, fontsize=18)\n",
    "\n",
    "#Legend on top of the plot\n",
    "plt.legend(bbox_to_anchor=(0., 1.02, 1., .102), loc=3,\n",
    "           ncol=3, mode=\"expand\", borderaxespad=0, fontsize=12)\n",
    "\n",
    "plt.ylabel('Gap [mag]', fontsize=18)\n",
    "plt.xlabel('DEF [dex]', fontsize=18)\n",
    "plt.xlim(-2,2)\n",
    "plt.show()"
   ]
  },
  {
   "cell_type": "code",
   "execution_count": 85,
   "metadata": {},
   "outputs": [
    {
     "data": {
      "image/png": "[encoded data removed]",
      "text/plain": [
       "<matplotlib.figure.Figure at 0x7fdd0484a470>"
      ]
     },
     "metadata": {},
     "output_type": "display_data"
    }
   ],
   "source": [
    "fig = plt.figure(figsize=(8,8))\n",
    "ax = fig.add_subplot(111)\n",
    "\n",
    "ax.plot(MHI_Verdes,GAP_Verdes, 'k*', color='k', markersize=18, label='Verdes-Montenegro et al. 2001')\n",
    "ax.plot(MHI_Verdes_lim,GAP_Verdes_lim, 'k*', color='k', markersize=18, alpha = 0.5, label='Upper limits')\n",
    "ax.plot(MHI_Verdes_sp,GAP_Verdes_sp, 'k*', color='plum', markersize=18, label='Spirals')\n",
    "\n",
    "plt.axhline(2, color='red', linestyle='-.', linewidth=1, label='Fosil group border')\n",
    "\n",
    "\n",
    "plt.ylabel('Gap [mag]', fontsize=18)\n",
    "plt.xlabel('log(M$_{\\mathrm{HI}}$) [M$_{\\odot}$]', fontsize=18)\n",
    "plt.legend(bbox_to_anchor=(0., 1.02, 1., .102), loc=3,\n",
    "           ncol=2, mode=\"expand\", borderaxespad=0, fontsize=12)\n",
    "plt.show()"
   ]
  },
  {
   "cell_type": "markdown",
   "metadata": {},
   "source": [
    "### Now, let's see how Bokeh can help with this analysis:"
   ]
  },
  {
   "cell_type": "code",
   "execution_count": 69,
   "metadata": {
    "collapsed": true
   },
   "outputs": [],
   "source": [
    "#Import bunch of cool stuff from Bokeh and they will do the magic\n",
    "from bokeh.plotting import figure, output_file, show, ColumnDataSource, gridplot, save\n",
    "from bokeh.models import HoverTool"
   ]
  },
  {
   "cell_type": "markdown",
   "metadata": {},
   "source": [
    "## Linking:"
   ]
  },
  {
   "cell_type": "code",
   "execution_count": 78,
   "metadata": {},
   "outputs": [
    {
     "data": {
      "text/html": [
       "\n",
       "<div class=\"bk-root\">\n",
       "    <div class=\"bk-plotdiv\" id=\"039d164f-8f2d-4a54-ae33-8c0611ae7f7d\"></div>\n",
       "</div>"
      ]
     },
     "metadata": {},
     "output_type": "display_data"
    },
    {
     "data": {
      "application/javascript": [
       "(function(root) {\n",
       "  function embed_document(root) {\n",
       "    var docs_json = {\"3c67a119-cf4d-4749-9124-3647c0efd755\":{\"roots\":{\"references\":[{\"attributes\":{},\"id\":\"48821704-b4c0-482e-baf6-20dd08608290\",\"type\":\"PanTool\"},{\"attributes\":{\"fill_color\":{\"value\":\"black\"},\"size\":{\"units\":\"screen\",\"value\":8},\"x\":{\"field\":\"x\"},\"y\":{\"field\":\"y0\"}},\"id\":\"3e680dd2-324a-4ed9-a5b6-ee4cb8b0922c\",\"type\":\"Circle\"},{\"attributes\":{\"callback\":null,\"overlay\":{\"id\":\"2db52b27-fd43-41ee-b179-eeda53e9810e\",\"type\":\"BoxAnnotation\"},\"renderers\":[{\"id\":\"713852db-193a-45ed-8ec2-210d65308d85\",\"type\":\"GlyphRenderer\"},{\"id\":\"f1fbcdcd-482e-4130-ae9a-152aa7175be0\",\"type\":\"GlyphRenderer\"}]},\"id\":\"3faa0993-c1a5-4d4e-a817-85e84caa8034\",\"type\":\"BoxSelectTool\"},{\"attributes\":{\"data_source\":{\"id\":\"40ce8ffb-3dc4-4ad9-8dec-39b0e51311e6\",\"type\":\"ColumnDataSource\"},\"glyph\":{\"id\":\"048776c9-d118-4e1c-9b25-b9fdb1c1fa5d\",\"type\":\"Circle\"},\"hover_glyph\":null,\"muted_glyph\":null,\"nonselection_glyph\":{\"id\":\"59619fc5-8367-4b9a-9699-4e228f56efff\",\"type\":\"Circle\"},\"selection_glyph\":null,\"view\":{\"id\":\"ccbd5bfb-b9d7-4847-acca-adcea35e8c77\",\"type\":\"CDSView\"}},\"id\":\"479b0545-0caf-4691-b651-1216da9f39d1\",\"type\":\"GlyphRenderer\"},{\"attributes\":{\"callback\":null},\"id\":\"75d34bfe-e1b3-4600-81e0-70fa83d5ac93\",\"type\":\"DataRange1d\"},{\"attributes\":{\"plot\":{\"id\":\"86e32289-101e-49f3-804c-4860fd091b9f\",\"subtype\":\"Figure\",\"type\":\"Plot\"},\"ticker\":{\"id\":\"aca14eec-6e05-4ad3-a5d2-9023aeb8fd7c\",\"type\":\"BasicTicker\"}},\"id\":\"e3465727-34c0-45f8-8f68-7b01224d971a\",\"type\":\"Grid\"},{\"attributes\":{\"dimension\":1,\"plot\":{\"id\":\"385a0469-1f53-426f-b651-69981431cd73\",\"subtype\":\"Figure\",\"type\":\"Plot\"},\"ticker\":{\"id\":\"40347a7c-951d-490b-b8ad-1800a9868a50\",\"type\":\"BasicTicker\"}},\"id\":\"d33ebc70-1a89-428f-8cf7-a904f396762c\",\"type\":\"Grid\"},{\"attributes\":{\"plot\":{\"id\":\"385a0469-1f53-426f-b651-69981431cd73\",\"subtype\":\"Figure\",\"type\":\"Plot\"},\"ticker\":{\"id\":\"d6c9daf5-c04a-48c1-85a2-9bead61fcc89\",\"type\":\"BasicTicker\"}},\"id\":\"b126bab5-2f8e-45f7-a916-0c09025754e0\",\"type\":\"Grid\"},{\"attributes\":{\"callback\":null},\"id\":\"a32a8cb9-43b8-49ef-9963-92512c27d029\",\"type\":\"DataRange1d\"},{\"attributes\":{\"bottom_units\":\"screen\",\"fill_alpha\":{\"value\":0.5},\"fill_color\":{\"value\":\"lightgrey\"},\"left_units\":\"screen\",\"level\":\"overlay\",\"line_alpha\":{\"value\":1.0},\"line_color\":{\"value\":\"black\"},\"line_dash\":[4,4],\"line_width\":{\"value\":2},\"plot\":null,\"render_mode\":\"css\",\"right_units\":\"screen\",\"top_units\":\"screen\"},\"id\":\"2db52b27-fd43-41ee-b179-eeda53e9810e\",\"type\":\"BoxAnnotation\"},{\"attributes\":{\"axis_label\":\"GAP\",\"formatter\":{\"id\":\"d8d3bca7-8b10-4aaa-96f0-ae88f439fbd9\",\"type\":\"BasicTickFormatter\"},\"plot\":{\"id\":\"385a0469-1f53-426f-b651-69981431cd73\",\"subtype\":\"Figure\",\"type\":\"Plot\"},\"ticker\":{\"id\":\"d6c9daf5-c04a-48c1-85a2-9bead61fcc89\",\"type\":\"BasicTicker\"}},\"id\":\"f6b2c862-b437-44e4-ad55-40de248440ac\",\"type\":\"LinearAxis\"},{\"attributes\":{\"fill_alpha\":{\"value\":0.1},\"fill_color\":{\"value\":\"#1f77b4\"},\"line_alpha\":{\"value\":0.1},\"line_color\":{\"value\":\"#1f77b4\"},\"size\":{\"units\":\"screen\",\"value\":8},\"x\":{\"field\":\"x\"},\"y\":{\"field\":\"y0\"}},\"id\":\"5483555c-7b9d-4df0-ac35-fdc31c355bdd\",\"type\":\"Circle\"},{\"attributes\":{\"plot\":null,\"text\":\"\"},\"id\":\"8ed46119-0c34-49e3-b208-0c2e90cf950d\",\"type\":\"Title\"},{\"attributes\":{},\"id\":\"d8d3bca7-8b10-4aaa-96f0-ae88f439fbd9\",\"type\":\"BasicTickFormatter\"},{\"attributes\":{},\"id\":\"05a88c5a-665d-4f34-94f7-c79475ea3f42\",\"type\":\"BasicTicker\"},{\"attributes\":{\"callback\":null},\"id\":\"80fa3628-1a6f-4bce-bd6c-b496d7eeaada\",\"type\":\"DataRange1d\"},{\"attributes\":{\"callback\":null,\"overlay\":{\"id\":\"4c62093c-a8ae-4b11-b5e3-08a1fcf8b013\",\"type\":\"PolyAnnotation\"}},\"id\":\"4d0fa31b-e820-4a47-b0f3-598f7dcec6e3\",\"type\":\"LassoSelectTool\"},{\"attributes\":{},\"id\":\"59114991-3a1f-4210-ac74-d432172630a6\",\"type\":\"WheelZoomTool\"},{\"attributes\":{\"plot\":null,\"text\":\"\"},\"id\":\"ecf72873-3906-4755-9d05-0681a306a67d\",\"type\":\"Title\"},{\"attributes\":{\"active_drag\":\"auto\",\"active_inspect\":\"auto\",\"active_scroll\":\"auto\",\"active_tap\":\"auto\",\"tools\":[{\"id\":\"9963865a-69a3-44f0-81a4-5639ed95990c\",\"type\":\"BoxSelectTool\"},{\"id\":\"1fa33c26-66d3-459a-af82-a7cb2e4eb163\",\"type\":\"LassoSelectTool\"},{\"id\":\"ecf36043-865b-4b0a-bd77-d70e273bc556\",\"type\":\"HelpTool\"},{\"id\":\"9bdf24a5-f506-446b-9ef7-fdf172ecac9a\",\"type\":\"PanTool\"},{\"id\":\"59114991-3a1f-4210-ac74-d432172630a6\",\"type\":\"WheelZoomTool\"}]},\"id\":\"36627fa7-e72b-43c7-bf5f-a282baa8e1f6\",\"type\":\"Toolbar\"},{\"attributes\":{},\"id\":\"54705b8b-8e91-4f33-846c-f3033dc1b10a\",\"type\":\"LinearScale\"},{\"attributes\":{\"axis_label\":\"DEF\",\"formatter\":{\"id\":\"d1bbe210-7190-4592-a141-146b51ffbef4\",\"type\":\"BasicTickFormatter\"},\"plot\":{\"id\":\"385a0469-1f53-426f-b651-69981431cd73\",\"subtype\":\"Figure\",\"type\":\"Plot\"},\"ticker\":{\"id\":\"40347a7c-951d-490b-b8ad-1800a9868a50\",\"type\":\"BasicTicker\"}},\"id\":\"db728811-ded8-466c-a8c9-d4f6262e9817\",\"type\":\"LinearAxis\"},{\"attributes\":{\"line_alpha\":{\"value\":0.1},\"line_color\":{\"value\":\"#1f77b4\"},\"x\":{\"field\":\"x\"},\"y\":{\"field\":\"y\"}},\"id\":\"d769857a-c4e8-4ff6-bf23-af4df1e13eb5\",\"type\":\"Line\"},{\"attributes\":{\"fill_alpha\":{\"value\":0.5},\"fill_color\":{\"value\":\"lightgrey\"},\"level\":\"overlay\",\"line_alpha\":{\"value\":1.0},\"line_color\":{\"value\":\"black\"},\"line_dash\":[4,4],\"line_width\":{\"value\":2},\"plot\":null,\"xs_units\":\"screen\",\"ys_units\":\"screen\"},\"id\":\"4c62093c-a8ae-4b11-b5e3-08a1fcf8b013\",\"type\":\"PolyAnnotation\"},{\"attributes\":{\"callback\":null,\"overlay\":{\"id\":\"8593a730-10fa-44aa-a2bc-dd39caf6076c\",\"type\":\"PolyAnnotation\"}},\"id\":\"1fa33c26-66d3-459a-af82-a7cb2e4eb163\",\"type\":\"LassoSelectTool\"},{\"attributes\":{\"active_drag\":\"auto\",\"active_inspect\":\"auto\",\"active_scroll\":\"auto\",\"active_tap\":\"auto\",\"tools\":[{\"id\":\"3faa0993-c1a5-4d4e-a817-85e84caa8034\",\"type\":\"BoxSelectTool\"},{\"id\":\"4d0fa31b-e820-4a47-b0f3-598f7dcec6e3\",\"type\":\"LassoSelectTool\"},{\"id\":\"5b27edcc-bca7-48cf-9293-80854ade143c\",\"type\":\"HelpTool\"},{\"id\":\"48821704-b4c0-482e-baf6-20dd08608290\",\"type\":\"PanTool\"},{\"id\":\"ae19ca5c-e679-4e88-a82a-4d4a1b7e9475\",\"type\":\"WheelZoomTool\"}]},\"id\":\"f08b08dc-2351-4a81-829d-53da24f686ba\",\"type\":\"Toolbar\"},{\"attributes\":{},\"id\":\"717edf14-1dc5-4f89-81cb-a6405e110132\",\"type\":\"LinearScale\"},{\"attributes\":{\"axis_label\":\"MHI observed\",\"formatter\":{\"id\":\"e4cd28c2-c968-493e-be59-158978d83d4e\",\"type\":\"BasicTickFormatter\"},\"plot\":{\"id\":\"86e32289-101e-49f3-804c-4860fd091b9f\",\"subtype\":\"Figure\",\"type\":\"Plot\"},\"ticker\":{\"id\":\"05a88c5a-665d-4f34-94f7-c79475ea3f42\",\"type\":\"BasicTicker\"}},\"id\":\"697c6f58-4f95-42c3-889d-b5cfb2860054\",\"type\":\"LinearAxis\"},{\"attributes\":{\"callback\":null,\"column_names\":[\"x\",\"y\"],\"data\":{\"x\":[8.5,9,10,11],\"y\":[8.5,9,10,11]}},\"id\":\"d447a809-34a0-4ebc-bf7b-5f65fe6b9f23\",\"type\":\"ColumnDataSource\"},{\"attributes\":{},\"id\":\"d6c9daf5-c04a-48c1-85a2-9bead61fcc89\",\"type\":\"BasicTicker\"},{\"attributes\":{\"data_source\":{\"id\":\"40ce8ffb-3dc4-4ad9-8dec-39b0e51311e6\",\"type\":\"ColumnDataSource\"},\"glyph\":{\"id\":\"3e680dd2-324a-4ed9-a5b6-ee4cb8b0922c\",\"type\":\"Circle\"},\"hover_glyph\":null,\"muted_glyph\":null,\"nonselection_glyph\":{\"id\":\"5483555c-7b9d-4df0-ac35-fdc31c355bdd\",\"type\":\"Circle\"},\"selection_glyph\":null,\"view\":{\"id\":\"9bf978a4-0d13-4e3e-a221-de0295e873a9\",\"type\":\"CDSView\"}},\"id\":\"713852db-193a-45ed-8ec2-210d65308d85\",\"type\":\"GlyphRenderer\"},{\"attributes\":{\"children\":[{\"id\":\"86e32289-101e-49f3-804c-4860fd091b9f\",\"subtype\":\"Figure\",\"type\":\"Plot\"},{\"id\":\"385a0469-1f53-426f-b651-69981431cd73\",\"subtype\":\"Figure\",\"type\":\"Plot\"}]},\"id\":\"60e03a40-e4d4-4c91-ab78-20a124302311\",\"type\":\"Row\"},{\"attributes\":{\"axis_label\":\"MHI expected\",\"formatter\":{\"id\":\"dc66b203-782a-4aa3-9955-b29c3b7b5ed2\",\"type\":\"BasicTickFormatter\"},\"plot\":{\"id\":\"86e32289-101e-49f3-804c-4860fd091b9f\",\"subtype\":\"Figure\",\"type\":\"Plot\"},\"ticker\":{\"id\":\"aca14eec-6e05-4ad3-a5d2-9023aeb8fd7c\",\"type\":\"BasicTicker\"}},\"id\":\"e94ca7d8-b722-4c31-8716-d57808dd3ddb\",\"type\":\"LinearAxis\"},{\"attributes\":{},\"id\":\"e0e2483e-a1d6-438f-b944-1bdf2be43b49\",\"type\":\"LinearScale\"},{\"attributes\":{\"source\":{\"id\":\"40ce8ffb-3dc4-4ad9-8dec-39b0e51311e6\",\"type\":\"ColumnDataSource\"}},\"id\":\"ccbd5bfb-b9d7-4847-acca-adcea35e8c77\",\"type\":\"CDSView\"},{\"attributes\":{},\"id\":\"d1bbe210-7190-4592-a141-146b51ffbef4\",\"type\":\"BasicTickFormatter\"},{\"attributes\":{},\"id\":\"40347a7c-951d-490b-b8ad-1800a9868a50\",\"type\":\"BasicTicker\"},{\"attributes\":{},\"id\":\"dc66b203-782a-4aa3-9955-b29c3b7b5ed2\",\"type\":\"BasicTickFormatter\"},{\"attributes\":{},\"id\":\"5b27edcc-bca7-48cf-9293-80854ade143c\",\"type\":\"HelpTool\"},{\"attributes\":{\"below\":[{\"id\":\"e94ca7d8-b722-4c31-8716-d57808dd3ddb\",\"type\":\"LinearAxis\"}],\"left\":[{\"id\":\"697c6f58-4f95-42c3-889d-b5cfb2860054\",\"type\":\"LinearAxis\"}],\"plot_height\":400,\"plot_width\":400,\"renderers\":[{\"id\":\"e94ca7d8-b722-4c31-8716-d57808dd3ddb\",\"type\":\"LinearAxis\"},{\"id\":\"e3465727-34c0-45f8-8f68-7b01224d971a\",\"type\":\"Grid\"},{\"id\":\"697c6f58-4f95-42c3-889d-b5cfb2860054\",\"type\":\"LinearAxis\"},{\"id\":\"e14d8d8b-f7f5-4bd4-9196-b6ac4a31b8d7\",\"type\":\"Grid\"},{\"id\":\"2db52b27-fd43-41ee-b179-eeda53e9810e\",\"type\":\"BoxAnnotation\"},{\"id\":\"4c62093c-a8ae-4b11-b5e3-08a1fcf8b013\",\"type\":\"PolyAnnotation\"},{\"id\":\"713852db-193a-45ed-8ec2-210d65308d85\",\"type\":\"GlyphRenderer\"},{\"id\":\"f1fbcdcd-482e-4130-ae9a-152aa7175be0\",\"type\":\"GlyphRenderer\"}],\"title\":{\"id\":\"8ed46119-0c34-49e3-b208-0c2e90cf950d\",\"type\":\"Title\"},\"toolbar\":{\"id\":\"f08b08dc-2351-4a81-829d-53da24f686ba\",\"type\":\"Toolbar\"},\"toolbar_location\":null,\"x_range\":{\"id\":\"80fa3628-1a6f-4bce-bd6c-b496d7eeaada\",\"type\":\"DataRange1d\"},\"x_scale\":{\"id\":\"717edf14-1dc5-4f89-81cb-a6405e110132\",\"type\":\"LinearScale\"},\"y_range\":{\"id\":\"75d34bfe-e1b3-4600-81e0-70fa83d5ac93\",\"type\":\"DataRange1d\"},\"y_scale\":{\"id\":\"54705b8b-8e91-4f33-846c-f3033dc1b10a\",\"type\":\"LinearScale\"}},\"id\":\"86e32289-101e-49f3-804c-4860fd091b9f\",\"subtype\":\"Figure\",\"type\":\"Plot\"},{\"attributes\":{\"source\":{\"id\":\"d447a809-34a0-4ebc-bf7b-5f65fe6b9f23\",\"type\":\"ColumnDataSource\"}},\"id\":\"100ab0f7-916b-4b2d-82ce-979a511cecf4\",\"type\":\"CDSView\"},{\"attributes\":{\"below\":[{\"id\":\"f6b2c862-b437-44e4-ad55-40de248440ac\",\"type\":\"LinearAxis\"}],\"left\":[{\"id\":\"db728811-ded8-466c-a8c9-d4f6262e9817\",\"type\":\"LinearAxis\"}],\"plot_height\":400,\"plot_width\":400,\"renderers\":[{\"id\":\"f6b2c862-b437-44e4-ad55-40de248440ac\",\"type\":\"LinearAxis\"},{\"id\":\"b126bab5-2f8e-45f7-a916-0c09025754e0\",\"type\":\"Grid\"},{\"id\":\"db728811-ded8-466c-a8c9-d4f6262e9817\",\"type\":\"LinearAxis\"},{\"id\":\"d33ebc70-1a89-428f-8cf7-a904f396762c\",\"type\":\"Grid\"},{\"id\":\"9a084969-3597-46fa-b338-5e3965385ef4\",\"type\":\"BoxAnnotation\"},{\"id\":\"8593a730-10fa-44aa-a2bc-dd39caf6076c\",\"type\":\"PolyAnnotation\"},{\"id\":\"479b0545-0caf-4691-b651-1216da9f39d1\",\"type\":\"GlyphRenderer\"}],\"title\":{\"id\":\"ecf72873-3906-4755-9d05-0681a306a67d\",\"type\":\"Title\"},\"toolbar\":{\"id\":\"36627fa7-e72b-43c7-bf5f-a282baa8e1f6\",\"type\":\"Toolbar\"},\"toolbar_location\":null,\"x_range\":{\"id\":\"b28002cd-ac8e-4927-ac56-491c0f1532d7\",\"type\":\"DataRange1d\"},\"x_scale\":{\"id\":\"e0e2483e-a1d6-438f-b944-1bdf2be43b49\",\"type\":\"LinearScale\"},\"y_range\":{\"id\":\"a32a8cb9-43b8-49ef-9963-92512c27d029\",\"type\":\"DataRange1d\"},\"y_scale\":{\"id\":\"2796f010-ac97-4af1-a792-5f224869ea32\",\"type\":\"LinearScale\"}},\"id\":\"385a0469-1f53-426f-b651-69981431cd73\",\"subtype\":\"Figure\",\"type\":\"Plot\"},{\"attributes\":{\"source\":{\"id\":\"40ce8ffb-3dc4-4ad9-8dec-39b0e51311e6\",\"type\":\"ColumnDataSource\"}},\"id\":\"9bf978a4-0d13-4e3e-a221-de0295e873a9\",\"type\":\"CDSView\"},{\"attributes\":{\"children\":[{\"id\":\"353cf5d9-c729-45c2-9437-13aad28d563e\",\"type\":\"ToolbarBox\"},{\"id\":\"4beb37e9-278d-4326-b2b5-12dcea020e8c\",\"type\":\"Column\"}]},\"id\":\"dfe7f757-8b40-40d9-9942-84b6d089e012\",\"type\":\"Column\"},{\"attributes\":{\"dimension\":1,\"plot\":{\"id\":\"86e32289-101e-49f3-804c-4860fd091b9f\",\"subtype\":\"Figure\",\"type\":\"Plot\"},\"ticker\":{\"id\":\"05a88c5a-665d-4f34-94f7-c79475ea3f42\",\"type\":\"BasicTicker\"}},\"id\":\"e14d8d8b-f7f5-4bd4-9196-b6ac4a31b8d7\",\"type\":\"Grid\"},{\"attributes\":{\"fill_color\":{\"value\":\"black\"},\"size\":{\"units\":\"screen\",\"value\":8},\"x\":{\"field\":\"y1\"},\"y\":{\"field\":\"y2\"}},\"id\":\"048776c9-d118-4e1c-9b25-b9fdb1c1fa5d\",\"type\":\"Circle\"},{\"attributes\":{},\"id\":\"ecf36043-865b-4b0a-bd77-d70e273bc556\",\"type\":\"HelpTool\"},{\"attributes\":{\"callback\":null,\"overlay\":{\"id\":\"9a084969-3597-46fa-b338-5e3965385ef4\",\"type\":\"BoxAnnotation\"},\"renderers\":[{\"id\":\"479b0545-0caf-4691-b651-1216da9f39d1\",\"type\":\"GlyphRenderer\"}]},\"id\":\"9963865a-69a3-44f0-81a4-5639ed95990c\",\"type\":\"BoxSelectTool\"},{\"attributes\":{},\"id\":\"aca14eec-6e05-4ad3-a5d2-9023aeb8fd7c\",\"type\":\"BasicTicker\"},{\"attributes\":{},\"id\":\"ae19ca5c-e679-4e88-a82a-4d4a1b7e9475\",\"type\":\"WheelZoomTool\"},{\"attributes\":{},\"id\":\"9bdf24a5-f506-446b-9ef7-fdf172ecac9a\",\"type\":\"PanTool\"},{\"attributes\":{\"x\":{\"field\":\"x\"},\"y\":{\"field\":\"y\"}},\"id\":\"b8e00e5d-1710-4d93-9e89-a6882eec1789\",\"type\":\"Line\"},{\"attributes\":{},\"id\":\"2796f010-ac97-4af1-a792-5f224869ea32\",\"type\":\"LinearScale\"},{\"attributes\":{\"callback\":null,\"column_names\":[\"x\",\"y0\",\"y1\",\"y2\"],\"data\":{\"x\":{\"__ndarray__\":\"16NwPQrXJEApXI/C9agkQHsUrkfh+iNAmZmZmZkZJEAK16NwPQokQD0K16NwvSRArkfhehSuJECPwvUoXA8kQAAAAAAAgCRAXY/C9ShcI0AAAAAAAAAkQFK4HoXrUSRA9ihcj8J1JEBcj8L1KFwkQI/C9ShcDyVA9ihcj8L1IkCkcD0K1yMkQOF6FK5H4SRAuR6F61E4JEBcj8L1KFwiQD0K16NwvSRA16NwPQrXI0DrUbgehWskQFG4HoXrUSRA16NwPQrXJECuR+F6FC4kQKRwPQrXIyVAzczMzMzMJEBnZmZmZuYiQBWuR+F6FCRAmZmZmZmZJEAzMzMzMzMkQFyPwvUoXCRAUrgehetRJEC4HoXrUTgkQKRwPQrXIyFAcT0K16PwJECZmZmZmRklQHoUrkfh+iRAH4XrUbgeJUCF61G4HgUlQLkehetRuCRAuR6F61E4JEB7FK5H4XokQBbZzvdToyNA\",\"dtype\":\"float64\",\"shape\":[45]},\"y0\":{\"__ndarray__\":\"j8L1KFwPJUApXI/C9agkQFyPwvUoXCRACtejcD2KI0DhehSuR2EjQFyPwvUoXCNAMzMzMzMzJEBSuB6F69EiQLgehetRuCRAw/UoXI9CIkCPwvUoXA8kQM3MzMzMzCNA16NwPQrXJEA9CtejcD0hQDMzMzMzsyRA9ihcj8J1JEDhehSuR2EiQOF6FK5HYSNASOF6FK5HIkDNzMzMzMwiQLgehetROCRA9ihcj8J1IkBcj8L1KNwjQBSuR+F6FCVAFK5H4XoUJEC4HoXrUbgiQOxRuB6FayNAKVyPwvWoI0B7FK5H4foiQOxRuB6F6yNAj8L1KFwPJEA9CtejcD0jQArXo3A9iiRAj8L1KFwPI0CuR+F6FK4lQJqZmZmZmSJArkfhehQuI0CPwvUoXI8kQGZmZmZm5iRApHA9CtejJEAK16NwPQokQB+F61G4HiNA7FG4HoVrIkB7FK5H4XojQNnO91PjZSFA\",\"dtype\":\"float64\",\"shape\":[45]},\"y1\":{\"__ndarray__\":\"xEKtad5x4D/sUbgehevRP8l2vp8aL8U/rfpcbcX+0j/hehSuR+HSP7TIdr6fGtc/7Q2+MJkqeD8qOpLLf0jHP5hMFYxK6rQ/S1mGONbFAUBSuB6F61G4P7dif9k9efU/3GgAb4EE2T+8dJMYBFb1PxrAWyBB8fo/xY8xdy0hvz851sVtNID0PzJ3LSEf9OQ/g8DKoUW27z96Nqs+V1uxP5hMFYxK6sQ/Imx4eqUs7T9os+pztRXnP0SLbOf7qeE/qoJRSZ2A7j/MXUvIBz3zP7gehetRuPQ/78nDQq1p4j98YTJVMCrrP/7UeOkmMe4/fdCzWfW5+T8y5q4l5IOuPybkg57Nqs8/gnNGlPYGrz/Kw0Ktad7hP0Jg5dAi290/MCqpE9BE3D+V1AloImzAP4xK6gQ0Eew/UiegibDh9T8VHcnlP6S/PyJseHqlLPE/jErqBDQRzj/99nXgnBH2P+hqK/aX3cs/\",\"dtype\":\"float64\",\"shape\":[45]},\"y2\":{\"__ndarray__\":\"KVyPwvUovL8AAAAAAAAAAFK4HoXrUci/7FG4HoXr0T8fhetRuB7VPxSuR+F6FOY/uB6F61G4zj/Xo3A9CtfjPylcj8L1KLy/mpmZmZmZ4T+4HoXrUbiev6RwPQrXo9A/UrgehetRyL/2KFyPwvX4PwrXo3A9Csc/AAAAAAAA6L8pXI/C9SjsPwAAAAAAAOg/CtejcD0K7z8pXI/C9SjMv6RwPQrXo9A/FK5H4XoU5j/sUbgehevRP1K4HoXrUdi/UrgehetR2D9cj8L1KFznP4XrUbgehes/PQrXo3A94j97FK5H4Xqkv3sUrkfherQ/SOF6FK5H0T+4HoXrUbjePwrXo3A9Cre/KVyPwvUo5D9cj8L1KFznv1yPwvUoXOe/KVyPwvUo7D9I4XoUrkfRP3sUrkfheqQ/uB6F61G4zj9cj8L1KFzfP5qZmZmZmek/zczMzMzM7D8AAAAAAADgP+xRuB6F6/E/\",\"dtype\":\"float64\",\"shape\":[45]}}},\"id\":\"40ce8ffb-3dc4-4ad9-8dec-39b0e51311e6\",\"type\":\"ColumnDataSource\"},{\"attributes\":{\"callback\":null},\"id\":\"b28002cd-ac8e-4927-ac56-491c0f1532d7\",\"type\":\"DataRange1d\"},{\"attributes\":{\"fill_alpha\":{\"value\":0.1},\"fill_color\":{\"value\":\"#1f77b4\"},\"line_alpha\":{\"value\":0.1},\"line_color\":{\"value\":\"#1f77b4\"},\"size\":{\"units\":\"screen\",\"value\":8},\"x\":{\"field\":\"y1\"},\"y\":{\"field\":\"y2\"}},\"id\":\"59619fc5-8367-4b9a-9699-4e228f56efff\",\"type\":\"Circle\"},{\"attributes\":{\"bottom_units\":\"screen\",\"fill_alpha\":{\"value\":0.5},\"fill_color\":{\"value\":\"lightgrey\"},\"left_units\":\"screen\",\"level\":\"overlay\",\"line_alpha\":{\"value\":1.0},\"line_color\":{\"value\":\"black\"},\"line_dash\":[4,4],\"line_width\":{\"value\":2},\"plot\":null,\"render_mode\":\"css\",\"right_units\":\"screen\",\"top_units\":\"screen\"},\"id\":\"9a084969-3597-46fa-b338-5e3965385ef4\",\"type\":\"BoxAnnotation\"},{\"attributes\":{\"data_source\":{\"id\":\"d447a809-34a0-4ebc-bf7b-5f65fe6b9f23\",\"type\":\"ColumnDataSource\"},\"glyph\":{\"id\":\"b8e00e5d-1710-4d93-9e89-a6882eec1789\",\"type\":\"Line\"},\"hover_glyph\":null,\"muted_glyph\":null,\"nonselection_glyph\":{\"id\":\"d769857a-c4e8-4ff6-bf23-af4df1e13eb5\",\"type\":\"Line\"},\"selection_glyph\":null,\"view\":{\"id\":\"100ab0f7-916b-4b2d-82ce-979a511cecf4\",\"type\":\"CDSView\"}},\"id\":\"f1fbcdcd-482e-4130-ae9a-152aa7175be0\",\"type\":\"GlyphRenderer\"},{\"attributes\":{\"children\":[{\"id\":\"60e03a40-e4d4-4c91-ab78-20a124302311\",\"type\":\"Row\"}]},\"id\":\"4beb37e9-278d-4326-b2b5-12dcea020e8c\",\"type\":\"Column\"},{\"attributes\":{\"sizing_mode\":\"scale_width\",\"toolbar_location\":\"above\",\"tools\":[{\"id\":\"3faa0993-c1a5-4d4e-a817-85e84caa8034\",\"type\":\"BoxSelectTool\"},{\"id\":\"4d0fa31b-e820-4a47-b0f3-598f7dcec6e3\",\"type\":\"LassoSelectTool\"},{\"id\":\"5b27edcc-bca7-48cf-9293-80854ade143c\",\"type\":\"HelpTool\"},{\"id\":\"48821704-b4c0-482e-baf6-20dd08608290\",\"type\":\"PanTool\"},{\"id\":\"ae19ca5c-e679-4e88-a82a-4d4a1b7e9475\",\"type\":\"WheelZoomTool\"},{\"id\":\"9963865a-69a3-44f0-81a4-5639ed95990c\",\"type\":\"BoxSelectTool\"},{\"id\":\"1fa33c26-66d3-459a-af82-a7cb2e4eb163\",\"type\":\"LassoSelectTool\"},{\"id\":\"ecf36043-865b-4b0a-bd77-d70e273bc556\",\"type\":\"HelpTool\"},{\"id\":\"9bdf24a5-f506-446b-9ef7-fdf172ecac9a\",\"type\":\"PanTool\"},{\"id\":\"59114991-3a1f-4210-ac74-d432172630a6\",\"type\":\"WheelZoomTool\"}]},\"id\":\"353cf5d9-c729-45c2-9437-13aad28d563e\",\"type\":\"ToolbarBox\"},{\"attributes\":{},\"id\":\"e4cd28c2-c968-493e-be59-158978d83d4e\",\"type\":\"BasicTickFormatter\"},{\"attributes\":{\"fill_alpha\":{\"value\":0.5},\"fill_color\":{\"value\":\"lightgrey\"},\"level\":\"overlay\",\"line_alpha\":{\"value\":1.0},\"line_color\":{\"value\":\"black\"},\"line_dash\":[4,4],\"line_width\":{\"value\":2},\"plot\":null,\"xs_units\":\"screen\",\"ys_units\":\"screen\"},\"id\":\"8593a730-10fa-44aa-a2bc-dd39caf6076c\",\"type\":\"PolyAnnotation\"}],\"root_ids\":[\"dfe7f757-8b40-40d9-9942-84b6d089e012\"]},\"title\":\"Bokeh Application\",\"version\":\"0.12.10\"}};\n",
       "    var render_items = [{\"docid\":\"3c67a119-cf4d-4749-9124-3647c0efd755\",\"elementid\":\"039d164f-8f2d-4a54-ae33-8c0611ae7f7d\",\"modelid\":\"dfe7f757-8b40-40d9-9942-84b6d089e012\"}];\n",
       "\n",
       "    root.Bokeh.embed.embed_items(docs_json, render_items);\n",
       "  }\n",
       "\n",
       "  if (root.Bokeh !== undefined) {\n",
       "    embed_document(root);\n",
       "  } else {\n",
       "    var attempts = 0;\n",
       "    var timer = setInterval(function(root) {\n",
       "      if (root.Bokeh !== undefined) {\n",
       "        embed_document(root);\n",
       "        clearInterval(timer);\n",
       "      }\n",
       "      attempts++;\n",
       "      if (attempts > 100) {\n",
       "        console.log(\"Bokeh: ERROR: Unable to embed document because BokehJS library is missing\")\n",
       "        clearInterval(timer);\n",
       "      }\n",
       "    }, 10, root)\n",
       "  }\n",
       "})(window);"
      ],
      "application/vnd.bokehjs_exec.v0+json": ""
     },
     "metadata": {
      "application/vnd.bokehjs_exec.v0+json": {
       "id": "dfe7f757-8b40-40d9-9942-84b6d089e012"
      }
     },
     "output_type": "display_data"
    }
   ],
   "source": [
    "x = DEF_Verdes+MHI_Verdes\n",
    "y0, y1, y2 = MHI_Verdes, GAP_Verdes, DEF_Verdes\n",
    "\n",
    "# create a column data source for the plots to share\n",
    "source = ColumnDataSource(data=dict(x=x, y0=y0, y1=y1, y2=y2))\n",
    "\n",
    "#Interactive tools\n",
    "TOOLS = \"box_select,lasso_select,help,pan,wheel_zoom\"\n",
    "\n",
    "# create plot and add a renderer\n",
    "left = figure(tools=TOOLS, width=400, height=400)\n",
    "left.circle('x', 'y0', color='black', size=8,source=source)\n",
    "left.line([8.5,9,10,11], [8.5,9,10,11], line_width=1, line_color='black')\n",
    "left.xaxis.axis_label = 'MHI expected'\n",
    "left.yaxis.axis_label = 'MHI observed'\n",
    "\n",
    "# create another plot and add a renderer\n",
    "right = figure(tools=TOOLS, width=400, height=400)\n",
    "right.circle('y1', 'y2',color='black', size=8,source=source)\n",
    "right.xaxis.axis_label = 'GAP'\n",
    "right.yaxis.axis_label = 'DEF'\n",
    "\n",
    "p = gridplot([[left,right]])\n",
    "\n",
    "show(p)"
   ]
  },
  {
   "cell_type": "markdown",
   "metadata": {},
   "source": [
    "## Hover:"
   ]
  },
  {
   "cell_type": "code",
   "execution_count": 94,
   "metadata": {},
   "outputs": [
    {
     "data": {
      "text/html": [
       "\n",
       "<div class=\"bk-root\">\n",
       "    <div class=\"bk-plotdiv\" id=\"f7bffb63-5b78-4705-ad06-e8c5f1af92bd\"></div>\n",
       "</div>"
      ]
     },
     "metadata": {},
     "output_type": "display_data"
    },
    {
     "data": {
      "application/javascript": [
       "(function(root) {\n",
       "  function embed_document(root) {\n",
       "    var docs_json = {\"8b4cf885-40f0-4f63-92a3-8ffc64f39117\":{\"roots\":{\"references\":[{\"attributes\":{\"active_drag\":\"auto\",\"active_inspect\":\"auto\",\"active_scroll\":\"auto\",\"active_tap\":\"auto\",\"tools\":[{\"id\":\"d68c5637-0fbd-4909-ac38-f2636ba10aac\",\"type\":\"HoverTool\"}]},\"id\":\"fc33e284-2b68-4e30-a1ff-aad627f5d9ac\",\"type\":\"Toolbar\"},{\"attributes\":{\"callback\":null},\"id\":\"b6bb87bf-06da-49a1-9770-5b474ea8a219\",\"type\":\"DataRange1d\"},{\"attributes\":{\"fill_alpha\":{\"value\":0.1},\"fill_color\":{\"value\":\"#1f77b4\"},\"line_alpha\":{\"value\":0.1},\"line_color\":{\"value\":\"#1f77b4\"},\"size\":{\"units\":\"screen\",\"value\":8},\"x\":{\"field\":\"x\"},\"y\":{\"field\":\"y\"}},\"id\":\"c13b1e77-7173-49ac-99ef-798336eebf33\",\"type\":\"Circle\"},{\"attributes\":{\"callback\":null,\"tooltips\":[[\"index\",\"$index\"],[\"(MHIexp, MHIobs )\",\"($x, $y)\"],[\"HCG group\",\"@desc\"]]},\"id\":\"d68c5637-0fbd-4909-ac38-f2636ba10aac\",\"type\":\"HoverTool\"},{\"attributes\":{\"callback\":null},\"id\":\"1e5fac87-b06c-4d2c-8f5f-93d7fe4e3ae3\",\"type\":\"DataRange1d\"},{\"attributes\":{},\"id\":\"63b25b71-acd9-4542-8e51-9608653b452a\",\"type\":\"BasicTicker\"},{\"attributes\":{\"dimension\":1,\"plot\":{\"id\":\"1d2574c1-2953-4a36-becb-00a3fb63c4e2\",\"subtype\":\"Figure\",\"type\":\"Plot\"},\"ticker\":{\"id\":\"e23900f1-46c0-428f-8a31-e64636423b19\",\"type\":\"BasicTicker\"}},\"id\":\"188cbaf1-c1ea-4730-8793-6f9438abedbb\",\"type\":\"Grid\"},{\"attributes\":{\"plot\":{\"id\":\"1d2574c1-2953-4a36-becb-00a3fb63c4e2\",\"subtype\":\"Figure\",\"type\":\"Plot\"},\"ticker\":{\"id\":\"63b25b71-acd9-4542-8e51-9608653b452a\",\"type\":\"BasicTicker\"}},\"id\":\"42f5fb1f-663b-4556-9d79-a39a8ba20f09\",\"type\":\"Grid\"},{\"attributes\":{\"line_color\":{\"value\":\"blue\"},\"x\":{\"field\":\"x\"},\"y\":{\"field\":\"y\"}},\"id\":\"3a9a0a8d-51fd-4a75-b407-9214fc72b0b9\",\"type\":\"Line\"},{\"attributes\":{},\"id\":\"e23900f1-46c0-428f-8a31-e64636423b19\",\"type\":\"BasicTicker\"},{\"attributes\":{\"callback\":null,\"column_names\":[\"x\",\"y\",\"desc\"],\"data\":{\"desc\":{\"__ndarray__\":\"AAAAAAAA8D8AAAAAAAAAQAAAAAAAAAhAAAAAAAAAFEAAAAAAAAAYQAAAAAAAABxAAAAAAAAAJEAAAAAAAAAuQAAAAAAAADVAAAAAAAAANkAAAAAAAAA3QAAAAAAAADlAAAAAAAAAOkAAAAAAAAA+QAAAAAAAAD9AAAAAAACAQEAAAAAAAIBCQAAAAAAAAENAAAAAAAAAREAAAAAAAABFQAAAAAAAgEVAAAAAAAAARkAAAAAAAIBHQAAAAAAAgEhAAAAAAACASkAAAAAAAABMQAAAAAAAgExAAAAAAAAATUAAAAAAAIBNQAAAAAAAgE5AAAAAAADAUEAAAAAAAABRQAAAAAAAQFFAAAAAAACAUUAAAAAAAEBSQAAAAAAAwFNAAAAAAADAVUAAAAAAAABWQAAAAAAAQFZAAAAAAADAVkAAAAAAAABXQAAAAAAAQFdAAAAAAADAWEAAAAAAAABZQAAAAAAAgFZA\",\"dtype\":\"float64\",\"shape\":[45]},\"x\":{\"__ndarray__\":\"16NwPQrXJEApXI/C9agkQHsUrkfh+iNAmZmZmZkZJEAK16NwPQokQD0K16NwvSRArkfhehSuJECPwvUoXA8kQAAAAAAAgCRAXY/C9ShcI0AAAAAAAAAkQFK4HoXrUSRA9ihcj8J1JEBcj8L1KFwkQI/C9ShcDyVA9ihcj8L1IkCkcD0K1yMkQOF6FK5H4SRAuR6F61E4JEBcj8L1KFwiQD0K16NwvSRA16NwPQrXI0DrUbgehWskQFG4HoXrUSRA16NwPQrXJECuR+F6FC4kQKRwPQrXIyVAzczMzMzMJEBnZmZmZuYiQBWuR+F6FCRAmZmZmZmZJEAzMzMzMzMkQFyPwvUoXCRAUrgehetRJEC4HoXrUTgkQKRwPQrXIyFAcT0K16PwJECZmZmZmRklQHoUrkfh+iRAH4XrUbgeJUCF61G4HgUlQLkehetRuCRAuR6F61E4JEB7FK5H4XokQBbZzvdToyNA\",\"dtype\":\"float64\",\"shape\":[45]},\"y\":{\"__ndarray__\":\"j8L1KFwPJUApXI/C9agkQFyPwvUoXCRACtejcD2KI0DhehSuR2EjQFyPwvUoXCNAMzMzMzMzJEBSuB6F69EiQLgehetRuCRAw/UoXI9CIkCPwvUoXA8kQM3MzMzMzCNA16NwPQrXJEA9CtejcD0hQDMzMzMzsyRA9ihcj8J1JEDhehSuR2EiQOF6FK5HYSNASOF6FK5HIkDNzMzMzMwiQLgehetROCRA9ihcj8J1IkBcj8L1KNwjQBSuR+F6FCVAFK5H4XoUJEC4HoXrUbgiQOxRuB6FayNAKVyPwvWoI0B7FK5H4foiQOxRuB6F6yNAj8L1KFwPJEA9CtejcD0jQArXo3A9iiRAj8L1KFwPI0CuR+F6FK4lQJqZmZmZmSJArkfhehQuI0CPwvUoXI8kQGZmZmZm5iRApHA9CtejJEAK16NwPQokQB+F61G4HiNA7FG4HoVrIkB7FK5H4XojQNnO91PjZSFA\",\"dtype\":\"float64\",\"shape\":[45]}}},\"id\":\"4b0ad7e7-1e56-4cca-94c4-0057d9ee4eff\",\"type\":\"ColumnDataSource\"},{\"attributes\":{\"below\":[{\"id\":\"46d5a833-bc78-4f39-8ade-22a8ac609f1a\",\"type\":\"LinearAxis\"}],\"left\":[{\"id\":\"97e47ff4-a424-4060-ad21-8de66b2301f0\",\"type\":\"LinearAxis\"}],\"plot_height\":400,\"plot_width\":400,\"renderers\":[{\"id\":\"46d5a833-bc78-4f39-8ade-22a8ac609f1a\",\"type\":\"LinearAxis\"},{\"id\":\"42f5fb1f-663b-4556-9d79-a39a8ba20f09\",\"type\":\"Grid\"},{\"id\":\"97e47ff4-a424-4060-ad21-8de66b2301f0\",\"type\":\"LinearAxis\"},{\"id\":\"188cbaf1-c1ea-4730-8793-6f9438abedbb\",\"type\":\"Grid\"},{\"id\":\"76dfa035-57b9-4669-83bc-a8eb3f904792\",\"type\":\"GlyphRenderer\"},{\"id\":\"c67d9814-1519-4847-906c-eeb03f5016c5\",\"type\":\"GlyphRenderer\"}],\"title\":{\"id\":\"6671abe4-76bc-4d58-a807-dc82e2905b70\",\"type\":\"Title\"},\"toolbar\":{\"id\":\"fc33e284-2b68-4e30-a1ff-aad627f5d9ac\",\"type\":\"Toolbar\"},\"x_range\":{\"id\":\"b6bb87bf-06da-49a1-9770-5b474ea8a219\",\"type\":\"DataRange1d\"},\"x_scale\":{\"id\":\"45a01612-60d1-4506-ba7c-fc52da7f4035\",\"type\":\"LinearScale\"},\"y_range\":{\"id\":\"1e5fac87-b06c-4d2c-8f5f-93d7fe4e3ae3\",\"type\":\"DataRange1d\"},\"y_scale\":{\"id\":\"49793a53-94de-457d-b0a1-fb93399ef0c4\",\"type\":\"LinearScale\"}},\"id\":\"1d2574c1-2953-4a36-becb-00a3fb63c4e2\",\"subtype\":\"Figure\",\"type\":\"Plot\"},{\"attributes\":{\"line_alpha\":{\"value\":0.1},\"line_color\":{\"value\":\"#1f77b4\"},\"x\":{\"field\":\"x\"},\"y\":{\"field\":\"y\"}},\"id\":\"0f8c681d-ada4-487c-a8b7-307ca7a6658c\",\"type\":\"Line\"},{\"attributes\":{},\"id\":\"fb46249a-02ad-4ca4-9ddf-e735142eaf4e\",\"type\":\"BasicTickFormatter\"},{\"attributes\":{},\"id\":\"49793a53-94de-457d-b0a1-fb93399ef0c4\",\"type\":\"LinearScale\"},{\"attributes\":{\"source\":{\"id\":\"570a47fe-ec91-492f-bc93-09c61768c07e\",\"type\":\"ColumnDataSource\"}},\"id\":\"93637328-53c3-4164-8f05-8fd177c35ee4\",\"type\":\"CDSView\"},{\"attributes\":{},\"id\":\"0ea13bc2-50c7-45f6-be7c-77d3103805e8\",\"type\":\"BasicTickFormatter\"},{\"attributes\":{\"source\":{\"id\":\"4b0ad7e7-1e56-4cca-94c4-0057d9ee4eff\",\"type\":\"ColumnDataSource\"}},\"id\":\"037a633c-eac0-45ea-a75b-1bd4df5bd1fb\",\"type\":\"CDSView\"},{\"attributes\":{\"plot\":null,\"text\":\"HCG\"},\"id\":\"6671abe4-76bc-4d58-a807-dc82e2905b70\",\"type\":\"Title\"},{\"attributes\":{\"axis_label\":\"HI mass expected [Mo]\",\"formatter\":{\"id\":\"0ea13bc2-50c7-45f6-be7c-77d3103805e8\",\"type\":\"BasicTickFormatter\"},\"plot\":{\"id\":\"1d2574c1-2953-4a36-becb-00a3fb63c4e2\",\"subtype\":\"Figure\",\"type\":\"Plot\"},\"ticker\":{\"id\":\"63b25b71-acd9-4542-8e51-9608653b452a\",\"type\":\"BasicTicker\"}},\"id\":\"46d5a833-bc78-4f39-8ade-22a8ac609f1a\",\"type\":\"LinearAxis\"},{\"attributes\":{\"data_source\":{\"id\":\"570a47fe-ec91-492f-bc93-09c61768c07e\",\"type\":\"ColumnDataSource\"},\"glyph\":{\"id\":\"3a9a0a8d-51fd-4a75-b407-9214fc72b0b9\",\"type\":\"Line\"},\"hover_glyph\":null,\"muted_glyph\":null,\"nonselection_glyph\":{\"id\":\"0f8c681d-ada4-487c-a8b7-307ca7a6658c\",\"type\":\"Line\"},\"selection_glyph\":null,\"view\":{\"id\":\"93637328-53c3-4164-8f05-8fd177c35ee4\",\"type\":\"CDSView\"}},\"id\":\"c67d9814-1519-4847-906c-eeb03f5016c5\",\"type\":\"GlyphRenderer\"},{\"attributes\":{\"axis_label\":\"HI mass observed [Mo]\",\"formatter\":{\"id\":\"fb46249a-02ad-4ca4-9ddf-e735142eaf4e\",\"type\":\"BasicTickFormatter\"},\"plot\":{\"id\":\"1d2574c1-2953-4a36-becb-00a3fb63c4e2\",\"subtype\":\"Figure\",\"type\":\"Plot\"},\"ticker\":{\"id\":\"e23900f1-46c0-428f-8a31-e64636423b19\",\"type\":\"BasicTicker\"}},\"id\":\"97e47ff4-a424-4060-ad21-8de66b2301f0\",\"type\":\"LinearAxis\"},{\"attributes\":{\"fill_color\":{\"value\":\"black\"},\"size\":{\"units\":\"screen\",\"value\":8},\"x\":{\"field\":\"x\"},\"y\":{\"field\":\"y\"}},\"id\":\"b9e898a6-c1cd-4eed-8d05-4a725de42540\",\"type\":\"Circle\"},{\"attributes\":{\"data_source\":{\"id\":\"4b0ad7e7-1e56-4cca-94c4-0057d9ee4eff\",\"type\":\"ColumnDataSource\"},\"glyph\":{\"id\":\"b9e898a6-c1cd-4eed-8d05-4a725de42540\",\"type\":\"Circle\"},\"hover_glyph\":null,\"muted_glyph\":null,\"nonselection_glyph\":{\"id\":\"c13b1e77-7173-49ac-99ef-798336eebf33\",\"type\":\"Circle\"},\"selection_glyph\":null,\"view\":{\"id\":\"037a633c-eac0-45ea-a75b-1bd4df5bd1fb\",\"type\":\"CDSView\"}},\"id\":\"76dfa035-57b9-4669-83bc-a8eb3f904792\",\"type\":\"GlyphRenderer\"},{\"attributes\":{\"callback\":null,\"column_names\":[\"x\",\"y\"],\"data\":{\"x\":[8.5,9,10,11],\"y\":[8.5,9,10,11]}},\"id\":\"570a47fe-ec91-492f-bc93-09c61768c07e\",\"type\":\"ColumnDataSource\"},{\"attributes\":{},\"id\":\"45a01612-60d1-4506-ba7c-fc52da7f4035\",\"type\":\"LinearScale\"}],\"root_ids\":[\"1d2574c1-2953-4a36-becb-00a3fb63c4e2\"]},\"title\":\"Bokeh Application\",\"version\":\"0.12.10\"}};\n",
       "    var render_items = [{\"docid\":\"8b4cf885-40f0-4f63-92a3-8ffc64f39117\",\"elementid\":\"f7bffb63-5b78-4705-ad06-e8c5f1af92bd\",\"modelid\":\"1d2574c1-2953-4a36-becb-00a3fb63c4e2\"}];\n",
       "\n",
       "    root.Bokeh.embed.embed_items(docs_json, render_items);\n",
       "  }\n",
       "\n",
       "  if (root.Bokeh !== undefined) {\n",
       "    embed_document(root);\n",
       "  } else {\n",
       "    var attempts = 0;\n",
       "    var timer = setInterval(function(root) {\n",
       "      if (root.Bokeh !== undefined) {\n",
       "        embed_document(root);\n",
       "        clearInterval(timer);\n",
       "      }\n",
       "      attempts++;\n",
       "      if (attempts > 100) {\n",
       "        console.log(\"Bokeh: ERROR: Unable to embed document because BokehJS library is missing\")\n",
       "        clearInterval(timer);\n",
       "      }\n",
       "    }, 10, root)\n",
       "  }\n",
       "})(window);"
      ],
      "application/vnd.bokehjs_exec.v0+json": ""
     },
     "metadata": {
      "application/vnd.bokehjs_exec.v0+json": {
       "id": "1d2574c1-2953-4a36-becb-00a3fb63c4e2"
      }
     },
     "output_type": "display_data"
    }
   ],
   "source": [
    "source = ColumnDataSource(\n",
    "        data=dict(\n",
    "            x=MHI_Verdes+DEF_Verdes,\n",
    "            y=MHI_Verdes,\n",
    "            desc=HCG,))\n",
    "\n",
    "hover = HoverTool(\n",
    "        tooltips=[\n",
    "            (\"index\", \"$index\"),\n",
    "            (\"(MHIexp, MHIobs )\", \"($x, $y)\"),\n",
    "            (\"HCG group\", \"@desc\"),\n",
    "        ])\n",
    "\n",
    "p = figure(plot_width=400, plot_height=400, tools=[hover], title=\"HCG\")\n",
    "\n",
    "p.circle('x', 'y', size=8, color='black', source=source)\n",
    "p.line([8.5,9,10,11], [8.5,9,10,11], line_width=1, line_color='blue')\n",
    "\n",
    "p.yaxis.axis_label = 'HI mass observed [Mo]'\n",
    "p.xaxis.axis_label = 'HI mass expected [Mo]'\n",
    "\n",
    "show(p)"
   ]
  },
  {
   "cell_type": "markdown",
   "metadata": {},
   "source": [
    "## Another, even more awesome hover... "
   ]
  },
  {
   "cell_type": "code",
   "execution_count": 95,
   "metadata": {},
   "outputs": [
    {
     "data": {
      "text/html": [
       "\n",
       "<div class=\"bk-root\">\n",
       "    <div class=\"bk-plotdiv\" id=\"7e3735cd-2cfe-437c-b6bf-d300872006a1\"></div>\n",
       "</div>"
      ]
     },
     "metadata": {},
     "output_type": "display_data"
    },
    {
     "data": {
      "application/javascript": [
       "(function(root) {\n",
       "  function embed_document(root) {\n",
       "    var docs_json = {\"bfe80f1f-93ac-445f-8379-18cc40964036\":{\"roots\":{\"references\":[{\"attributes\":{\"fill_alpha\":{\"value\":0.1},\"fill_color\":{\"value\":\"#1f77b4\"},\"line_alpha\":{\"value\":0.1},\"line_color\":{\"value\":\"#1f77b4\"},\"size\":{\"units\":\"screen\",\"value\":10},\"x\":{\"field\":\"x\"},\"y\":{\"field\":\"y\"}},\"id\":\"382129a9-c7c1-4a43-b7e9-233b6a9201c8\",\"type\":\"Circle\"},{\"attributes\":{\"axis_label\":\"HI mass expected [Mo]\",\"formatter\":{\"id\":\"cc805e1e-60fd-4284-aaf1-927cf48d1461\",\"type\":\"BasicTickFormatter\"},\"plot\":{\"id\":\"f7199fc5-76ef-42fc-a385-5f1d7d20d163\",\"subtype\":\"Figure\",\"type\":\"Plot\"},\"ticker\":{\"id\":\"cee13dc5-b26f-42b0-8edf-c7b3667cc887\",\"type\":\"BasicTicker\"}},\"id\":\"54c84008-0069-4356-9f04-1ef5e97fb715\",\"type\":\"LinearAxis\"},{\"attributes\":{},\"id\":\"8f2050e1-1fca-407e-9665-75f13ce4d9d5\",\"type\":\"BasicTicker\"},{\"attributes\":{\"axis_label\":\"HI mass observed [Mo]\",\"formatter\":{\"id\":\"9cb71001-e92c-49d0-a75d-6c49743b1191\",\"type\":\"BasicTickFormatter\"},\"plot\":{\"id\":\"f7199fc5-76ef-42fc-a385-5f1d7d20d163\",\"subtype\":\"Figure\",\"type\":\"Plot\"},\"ticker\":{\"id\":\"8f2050e1-1fca-407e-9665-75f13ce4d9d5\",\"type\":\"BasicTicker\"}},\"id\":\"c6a31879-0946-4ea3-b8d7-8b7fed28f63b\",\"type\":\"LinearAxis\"},{\"attributes\":{\"callback\":null,\"column_names\":[\"x\",\"y\",\"desc\",\"imgs\"],\"data\":{\"desc\":{\"__ndarray__\":\"AAAAAAAA8D8AAAAAAAAAQAAAAAAAAAhAAAAAAAAAFEAAAAAAAAAYQAAAAAAAABxAAAAAAAAAJEAAAAAAAAAuQAAAAAAAADVAAAAAAAAANkAAAAAAAAA3QAAAAAAAADlAAAAAAAAAOkAAAAAAAAA+QAAAAAAAAD9AAAAAAACAQEAAAAAAAIBCQAAAAAAAAENAAAAAAAAAREAAAAAAAABFQAAAAAAAgEVAAAAAAAAARkAAAAAAAIBHQAAAAAAAgEhAAAAAAACASkAAAAAAAABMQAAAAAAAgExAAAAAAAAATUAAAAAAAIBNQAAAAAAAgE5AAAAAAADAUEAAAAAAAABRQAAAAAAAQFFAAAAAAACAUUAAAAAAAEBSQAAAAAAAwFNAAAAAAADAVUAAAAAAAABWQAAAAAAAQFZAAAAAAADAVkAAAAAAAABXQAAAAAAAQFdAAAAAAADAWEAAAAAAAABZQAAAAAAAgFZA\",\"dtype\":\"float64\",\"shape\":[45]},\"imgs\":[\"http://cseligman.com/text/atlas/hcg01wide.jpg\",\"http://cseligman.com/text/atlas/hcg02wide.jpg\",\"http://cseligman.com/text/atlas/hcg03wide.jpg\",\"http://cseligman.com/text/atlas/hcg05wide.jpg\",\"http://cseligman.com/text/atlas/hcg06wide.jpg\",\"http://cseligman.com/text/atlas/hcg07wide.jpg\",\"http://cseligman.com/text/atlas/hcg10wide.jpg\",\"http://cseligman.com/text/atlas/hcg15wide.jpg\",\"http://cseligman.com/text/atlas/hcg21wide.jpg\",\"http://cseligman.com/text/atlas/hcg22wide.jpg\",\"http://cseligman.com/text/atlas/hcg23wide.jpg\",\"http://cseligman.com/text/atlas/hcg25wide.jpg\",\"http://cseligman.com/text/atlas/hcg26wide.jpg\",\"http://cseligman.com/text/atlas/hcg30wide.jpg\",\"http://cseligman.com/text/atlas/hcg31wide.jpg\",\"http://cseligman.com/text/atlas/hcg33wide.jpg\",\"http://cseligman.com/text/atlas/hcg37wide.jpg\",\"http://cseligman.com/text/atlas/hcg38wide.jpg\",\"http://cseligman.com/text/atlas/hcg40wide.jpg\",\"http://cseligman.com/text/atlas/hcg42wide.jpg\",\"http://cseligman.com/text/atlas/hcg43wide.jpg\",\"http://cseligman.com/text/atlas/hcg44.jpg\",\"http://cseligman.com/text/atlas/hcg47wide.jpg\",\"http://cseligman.com/text/atlas/hcg49wide.jpg\",\"http://cseligman.com/text/atlas/hcg53wide.jpg\",\"http://cseligman.com/text/atlas/hcg56wide.jpg\",\"http://cseligman.com/text/atlas/hcg57wide.jpg\",\"http://cseligman.com/text/atlas/hcg58wide.jpg\",\"http://cseligman.com/text/atlas/hcg59wide.jpg\",\"http://cseligman.com/text/atlas/hcg61wide.jpg\",\"http://cseligman.com/text/atlas/hcg67wide.jpg\",\"http://cseligman.com/text/atlas/hcg68wide.jpg\",\"http://cseligman.com/text/atlas/hcg69wide.jpg\",\"http://cseligman.com/text/atlas/hcg70wide.jpg\",\"http://cseligman.com/text/atlas/hcg73wide.jpg\",\"http://cseligman.com/text/atlas/hcg79wide.jpg\",\"http://cseligman.com/text/atlas/hcg87wide.jpg\",\"http://cseligman.com/text/atlas/hcg88wide.jpg\",\"http://cseligman.com/text/atlas/hcg89wide.jpg\",\"http://cseligman.com/text/atlas/hcg91wide.jpg\",\"http://cseligman.com/text/atlas/hcg92wide.jpg\",\"http://cseligman.com/text/atlas/hcg93wide.jpg\",\"http://cseligman.com/text/atlas/hcg99wide.jpg\",\"http://cseligman.com/text/atlas/hickson100wide.jpg\",\"http://cseligman.com/text/atlas/hcg90wide.jpg\"],\"x\":{\"__ndarray__\":\"16NwPQrXJEApXI/C9agkQHsUrkfh+iNAmZmZmZkZJEAK16NwPQokQD0K16NwvSRArkfhehSuJECPwvUoXA8kQAAAAAAAgCRAXY/C9ShcI0AAAAAAAAAkQFK4HoXrUSRA9ihcj8J1JEBcj8L1KFwkQI/C9ShcDyVA9ihcj8L1IkCkcD0K1yMkQOF6FK5H4SRAuR6F61E4JEBcj8L1KFwiQD0K16NwvSRA16NwPQrXI0DrUbgehWskQFG4HoXrUSRA16NwPQrXJECuR+F6FC4kQKRwPQrXIyVAzczMzMzMJEBnZmZmZuYiQBWuR+F6FCRAmZmZmZmZJEAzMzMzMzMkQFyPwvUoXCRAUrgehetRJEC4HoXrUTgkQKRwPQrXIyFAcT0K16PwJECZmZmZmRklQHoUrkfh+iRAH4XrUbgeJUCF61G4HgUlQLkehetRuCRAuR6F61E4JEB7FK5H4XokQBbZzvdToyNA\",\"dtype\":\"float64\",\"shape\":[45]},\"y\":{\"__ndarray__\":\"j8L1KFwPJUApXI/C9agkQFyPwvUoXCRACtejcD2KI0DhehSuR2EjQFyPwvUoXCNAMzMzMzMzJEBSuB6F69EiQLgehetRuCRAw/UoXI9CIkCPwvUoXA8kQM3MzMzMzCNA16NwPQrXJEA9CtejcD0hQDMzMzMzsyRA9ihcj8J1JEDhehSuR2EiQOF6FK5HYSNASOF6FK5HIkDNzMzMzMwiQLgehetROCRA9ihcj8J1IkBcj8L1KNwjQBSuR+F6FCVAFK5H4XoUJEC4HoXrUbgiQOxRuB6FayNAKVyPwvWoI0B7FK5H4foiQOxRuB6F6yNAj8L1KFwPJEA9CtejcD0jQArXo3A9iiRAj8L1KFwPI0CuR+F6FK4lQJqZmZmZmSJArkfhehQuI0CPwvUoXI8kQGZmZmZm5iRApHA9CtejJEAK16NwPQokQB+F61G4HiNA7FG4HoVrIkB7FK5H4XojQNnO91PjZSFA\",\"dtype\":\"float64\",\"shape\":[45]}}},\"id\":\"d80e1596-1d9f-487f-bff8-086ba3c58629\",\"type\":\"ColumnDataSource\"},{\"attributes\":{\"callback\":null},\"id\":\"91fa296d-0ec2-4c57-a736-f4132b56603c\",\"type\":\"DataRange1d\"},{\"attributes\":{\"below\":[{\"id\":\"54c84008-0069-4356-9f04-1ef5e97fb715\",\"type\":\"LinearAxis\"}],\"left\":[{\"id\":\"c6a31879-0946-4ea3-b8d7-8b7fed28f63b\",\"type\":\"LinearAxis\"}],\"plot_height\":500,\"plot_width\":500,\"renderers\":[{\"id\":\"54c84008-0069-4356-9f04-1ef5e97fb715\",\"type\":\"LinearAxis\"},{\"id\":\"e7c5fd19-d04c-4433-b54a-d16ddc01b2c1\",\"type\":\"Grid\"},{\"id\":\"c6a31879-0946-4ea3-b8d7-8b7fed28f63b\",\"type\":\"LinearAxis\"},{\"id\":\"a5fc276c-c5bf-4bbc-9790-e4a64b8d470f\",\"type\":\"Grid\"},{\"id\":\"6d265f95-28b8-4e21-af2b-7d625ede6d55\",\"type\":\"GlyphRenderer\"},{\"id\":\"eb9768ca-d1ae-4fb7-8bc7-4b49d127e1e7\",\"type\":\"GlyphRenderer\"}],\"title\":{\"id\":\"7f5ffb78-0f4b-4910-ae6a-170ece622e97\",\"type\":\"Title\"},\"toolbar\":{\"id\":\"6559bda1-01a1-4820-8134-b7e0c3fa15b4\",\"type\":\"Toolbar\"},\"x_range\":{\"id\":\"91fa296d-0ec2-4c57-a736-f4132b56603c\",\"type\":\"DataRange1d\"},\"x_scale\":{\"id\":\"32115472-672f-40b5-b91c-7fbb3b6b4b1e\",\"type\":\"LinearScale\"},\"y_range\":{\"id\":\"88b9be4d-f692-45c7-807e-fd6e4ae81085\",\"type\":\"DataRange1d\"},\"y_scale\":{\"id\":\"601b7547-d4b9-45fb-babc-ea742c6f4a34\",\"type\":\"LinearScale\"}},\"id\":\"f7199fc5-76ef-42fc-a385-5f1d7d20d163\",\"subtype\":\"Figure\",\"type\":\"Plot\"},{\"attributes\":{\"dimension\":1,\"plot\":{\"id\":\"f7199fc5-76ef-42fc-a385-5f1d7d20d163\",\"subtype\":\"Figure\",\"type\":\"Plot\"},\"ticker\":{\"id\":\"8f2050e1-1fca-407e-9665-75f13ce4d9d5\",\"type\":\"BasicTicker\"}},\"id\":\"a5fc276c-c5bf-4bbc-9790-e4a64b8d470f\",\"type\":\"Grid\"},{\"attributes\":{},\"id\":\"cc805e1e-60fd-4284-aaf1-927cf48d1461\",\"type\":\"BasicTickFormatter\"},{\"attributes\":{\"active_drag\":\"auto\",\"active_inspect\":\"auto\",\"active_scroll\":\"auto\",\"active_tap\":\"auto\",\"tools\":[{\"id\":\"d6efdec1-a509-4235-b700-19799b3a6365\",\"type\":\"HoverTool\"}]},\"id\":\"6559bda1-01a1-4820-8134-b7e0c3fa15b4\",\"type\":\"Toolbar\"},{\"attributes\":{\"callback\":null,\"tooltips\":\"\\n    <div>\\n        <div>\\n            <img\\n                src=\\\"@imgs\\\" height=\\\"300\\\" alt=\\\"@imgs\\\" width=\\\"300\\\"\\n                style=\\\"float: left; margin: 0px 0px 10px 0px;\\\"\\n                border=\\\"2\\\"\\n            ></img>\\n        </div>\\n            <span style=\\\"font-size: 17px; font-weight: bold;\\\">@desc</span>\\n        </div>\\n        <div>\\n            <span style=\\\"font-size: 15px;\\\">Location</span>\\n            <span style=\\\"font-size: 10px; color: #696;\\\">($x, $y)</span>\\n        </div>\\n    </div>\\n    \"},\"id\":\"d6efdec1-a509-4235-b700-19799b3a6365\",\"type\":\"HoverTool\"},{\"attributes\":{\"line_alpha\":{\"value\":0.1},\"line_color\":{\"value\":\"#1f77b4\"},\"x\":{\"field\":\"x\"},\"y\":{\"field\":\"y\"}},\"id\":\"d2935da0-6184-4f66-bb7d-9ed7dbefdd0c\",\"type\":\"Line\"},{\"attributes\":{},\"id\":\"601b7547-d4b9-45fb-babc-ea742c6f4a34\",\"type\":\"LinearScale\"},{\"attributes\":{\"fill_color\":{\"value\":\"black\"},\"size\":{\"units\":\"screen\",\"value\":10},\"x\":{\"field\":\"x\"},\"y\":{\"field\":\"y\"}},\"id\":\"9cb36de3-eaa3-47e8-be78-731129ddc921\",\"type\":\"Circle\"},{\"attributes\":{\"source\":{\"id\":\"e0984c87-17cc-4b22-a551-b506eb3191e2\",\"type\":\"ColumnDataSource\"}},\"id\":\"e872ad78-75b1-4763-8352-b7f2dfa61a8c\",\"type\":\"CDSView\"},{\"attributes\":{\"source\":{\"id\":\"d80e1596-1d9f-487f-bff8-086ba3c58629\",\"type\":\"ColumnDataSource\"}},\"id\":\"0c522789-ca9e-4b0b-86a7-1594214026da\",\"type\":\"CDSView\"},{\"attributes\":{\"data_source\":{\"id\":\"e0984c87-17cc-4b22-a551-b506eb3191e2\",\"type\":\"ColumnDataSource\"},\"glyph\":{\"id\":\"c47ada70-ca5a-4b05-b990-2ada277baff2\",\"type\":\"Line\"},\"hover_glyph\":null,\"muted_glyph\":null,\"nonselection_glyph\":{\"id\":\"d2935da0-6184-4f66-bb7d-9ed7dbefdd0c\",\"type\":\"Line\"},\"selection_glyph\":null,\"view\":{\"id\":\"e872ad78-75b1-4763-8352-b7f2dfa61a8c\",\"type\":\"CDSView\"}},\"id\":\"eb9768ca-d1ae-4fb7-8bc7-4b49d127e1e7\",\"type\":\"GlyphRenderer\"},{\"attributes\":{},\"id\":\"32115472-672f-40b5-b91c-7fbb3b6b4b1e\",\"type\":\"LinearScale\"},{\"attributes\":{},\"id\":\"9cb71001-e92c-49d0-a75d-6c49743b1191\",\"type\":\"BasicTickFormatter\"},{\"attributes\":{\"line_color\":{\"value\":\"blue\"},\"x\":{\"field\":\"x\"},\"y\":{\"field\":\"y\"}},\"id\":\"c47ada70-ca5a-4b05-b990-2ada277baff2\",\"type\":\"Line\"},{\"attributes\":{\"plot\":{\"id\":\"f7199fc5-76ef-42fc-a385-5f1d7d20d163\",\"subtype\":\"Figure\",\"type\":\"Plot\"},\"ticker\":{\"id\":\"cee13dc5-b26f-42b0-8edf-c7b3667cc887\",\"type\":\"BasicTicker\"}},\"id\":\"e7c5fd19-d04c-4433-b54a-d16ddc01b2c1\",\"type\":\"Grid\"},{\"attributes\":{},\"id\":\"cee13dc5-b26f-42b0-8edf-c7b3667cc887\",\"type\":\"BasicTicker\"},{\"attributes\":{\"data_source\":{\"id\":\"d80e1596-1d9f-487f-bff8-086ba3c58629\",\"type\":\"ColumnDataSource\"},\"glyph\":{\"id\":\"9cb36de3-eaa3-47e8-be78-731129ddc921\",\"type\":\"Circle\"},\"hover_glyph\":null,\"muted_glyph\":null,\"nonselection_glyph\":{\"id\":\"382129a9-c7c1-4a43-b7e9-233b6a9201c8\",\"type\":\"Circle\"},\"selection_glyph\":null,\"view\":{\"id\":\"0c522789-ca9e-4b0b-86a7-1594214026da\",\"type\":\"CDSView\"}},\"id\":\"6d265f95-28b8-4e21-af2b-7d625ede6d55\",\"type\":\"GlyphRenderer\"},{\"attributes\":{\"callback\":null},\"id\":\"88b9be4d-f692-45c7-807e-fd6e4ae81085\",\"type\":\"DataRange1d\"},{\"attributes\":{\"callback\":null,\"column_names\":[\"x\",\"y\"],\"data\":{\"x\":[8.5,9,10,11],\"y\":[8.5,9,10,11]}},\"id\":\"e0984c87-17cc-4b22-a551-b506eb3191e2\",\"type\":\"ColumnDataSource\"},{\"attributes\":{\"plot\":null,\"text\":\"Mouse over the dots\"},\"id\":\"7f5ffb78-0f4b-4910-ae6a-170ece622e97\",\"type\":\"Title\"}],\"root_ids\":[\"f7199fc5-76ef-42fc-a385-5f1d7d20d163\"]},\"title\":\"Bokeh Application\",\"version\":\"0.12.10\"}};\n",
       "    var render_items = [{\"docid\":\"bfe80f1f-93ac-445f-8379-18cc40964036\",\"elementid\":\"7e3735cd-2cfe-437c-b6bf-d300872006a1\",\"modelid\":\"f7199fc5-76ef-42fc-a385-5f1d7d20d163\"}];\n",
       "\n",
       "    root.Bokeh.embed.embed_items(docs_json, render_items);\n",
       "  }\n",
       "\n",
       "  if (root.Bokeh !== undefined) {\n",
       "    embed_document(root);\n",
       "  } else {\n",
       "    var attempts = 0;\n",
       "    var timer = setInterval(function(root) {\n",
       "      if (root.Bokeh !== undefined) {\n",
       "        embed_document(root);\n",
       "        clearInterval(timer);\n",
       "      }\n",
       "      attempts++;\n",
       "      if (attempts > 100) {\n",
       "        console.log(\"Bokeh: ERROR: Unable to embed document because BokehJS library is missing\")\n",
       "        clearInterval(timer);\n",
       "      }\n",
       "    }, 10, root)\n",
       "  }\n",
       "})(window);"
      ],
      "application/vnd.bokehjs_exec.v0+json": ""
     },
     "metadata": {
      "application/vnd.bokehjs_exec.v0+json": {
       "id": "f7199fc5-76ef-42fc-a385-5f1d7d20d163"
      }
     },
     "output_type": "display_data"
    }
   ],
   "source": [
    "from bokeh.plotting import figure, output_file, show, ColumnDataSource, gridplot, save\n",
    "from bokeh.models import HoverTool\n",
    "\n",
    "source = ColumnDataSource(\n",
    "        data=dict(\n",
    "            x=MHI_Verdes+DEF_Verdes,\n",
    "            y=MHI_Verdes,\n",
    "            desc=HCG,\n",
    "            imgs=[\n",
    "                'http://cseligman.com/text/atlas/hcg01wide.jpg',\n",
    "                'http://cseligman.com/text/atlas/hcg02wide.jpg',\n",
    "                'http://cseligman.com/text/atlas/hcg03wide.jpg',\n",
    "                'http://cseligman.com/text/atlas/hcg05wide.jpg',\n",
    "                'http://cseligman.com/text/atlas/hcg06wide.jpg',\n",
    "                'http://cseligman.com/text/atlas/hcg07wide.jpg',\n",
    "                'http://cseligman.com/text/atlas/hcg10wide.jpg',\n",
    "                'http://cseligman.com/text/atlas/hcg15wide.jpg',\n",
    "                'http://cseligman.com/text/atlas/hcg21wide.jpg',\n",
    "                'http://cseligman.com/text/atlas/hcg22wide.jpg',\n",
    "                'http://cseligman.com/text/atlas/hcg23wide.jpg',\n",
    "                'http://cseligman.com/text/atlas/hcg25wide.jpg',\n",
    "                'http://cseligman.com/text/atlas/hcg26wide.jpg',\n",
    "                'http://cseligman.com/text/atlas/hcg30wide.jpg',\n",
    "                'http://cseligman.com/text/atlas/hcg31wide.jpg',\n",
    "                'http://cseligman.com/text/atlas/hcg33wide.jpg',\n",
    "                'http://cseligman.com/text/atlas/hcg37wide.jpg',\n",
    "                'http://cseligman.com/text/atlas/hcg38wide.jpg',\n",
    "                'http://cseligman.com/text/atlas/hcg40wide.jpg',\n",
    "                'http://cseligman.com/text/atlas/hcg42wide.jpg',\n",
    "                'http://cseligman.com/text/atlas/hcg43wide.jpg',\n",
    "                'http://cseligman.com/text/atlas/hcg44.jpg',\n",
    "                'http://cseligman.com/text/atlas/hcg47wide.jpg',\n",
    "                'http://cseligman.com/text/atlas/hcg49wide.jpg',\n",
    "                'http://cseligman.com/text/atlas/hcg53wide.jpg',\n",
    "                'http://cseligman.com/text/atlas/hcg56wide.jpg',\n",
    "                'http://cseligman.com/text/atlas/hcg57wide.jpg',\n",
    "                'http://cseligman.com/text/atlas/hcg58wide.jpg',\n",
    "                'http://cseligman.com/text/atlas/hcg59wide.jpg',\n",
    "                'http://cseligman.com/text/atlas/hcg61wide.jpg',\n",
    "                'http://cseligman.com/text/atlas/hcg67wide.jpg',\n",
    "                'http://cseligman.com/text/atlas/hcg68wide.jpg',\n",
    "                'http://cseligman.com/text/atlas/hcg69wide.jpg',\n",
    "                'http://cseligman.com/text/atlas/hcg70wide.jpg',\n",
    "                'http://cseligman.com/text/atlas/hcg73wide.jpg',\n",
    "                'http://cseligman.com/text/atlas/hcg79wide.jpg',\n",
    "                'http://cseligman.com/text/atlas/hcg87wide.jpg',\n",
    "                'http://cseligman.com/text/atlas/hcg88wide.jpg',\n",
    "                'http://cseligman.com/text/atlas/hcg89wide.jpg',\n",
    "                'http://cseligman.com/text/atlas/hcg91wide.jpg',\n",
    "                'http://cseligman.com/text/atlas/hcg92wide.jpg',\n",
    "                'http://cseligman.com/text/atlas/hcg93wide.jpg',\n",
    "                'http://cseligman.com/text/atlas/hcg99wide.jpg',\n",
    "                'http://cseligman.com/text/atlas/hickson100wide.jpg',\n",
    "                'http://cseligman.com/text/atlas/hcg90wide.jpg'\n",
    "                                                                ],))\n",
    "\n",
    "hover = HoverTool( tooltips=\"\"\"\n",
    "    <div>\n",
    "        <div>\n",
    "            <img\n",
    "                src=\"@imgs\" height=\"300\" alt=\"@imgs\" width=\"300\"\n",
    "                style=\"float: left; margin: 0px 0px 10px 0px;\"\n",
    "                border=\"2\"\n",
    "            ></img>\n",
    "        </div>\n",
    "            <span style=\"font-size: 17px; font-weight: bold;\">@desc</span>\n",
    "        </div>\n",
    "        <div>\n",
    "            <span style=\"font-size: 15px;\">Location</span>\n",
    "            <span style=\"font-size: 10px; color: #696;\">($x, $y)</span>\n",
    "        </div>\n",
    "    </div>\n",
    "    \"\"\"\n",
    ")\n",
    "\n",
    "p = figure(plot_width=500, plot_height=500, tools=[hover],\n",
    "           title=\"Mouse over the dots\")\n",
    "\n",
    "\n",
    "p.circle('x', 'y', size=10, color='black', source=source)\n",
    "p.line([8.5,9,10,11], [8.5,9,10,11], line_width=1, line_color='blue')\n",
    "\n",
    "p.yaxis.axis_label = 'HI mass observed [Mo]'\n",
    "p.xaxis.axis_label = 'HI mass expected [Mo]'\n",
    "\n",
    "show(p)"
   ]
  },
  {
   "cell_type": "markdown",
   "metadata": {},
   "source": [
    "## You can save the plot as the .html, and place hyperlink for example in presentation and then easily have interactive plot in case you need it :)"
   ]
  },
  {
   "cell_type": "code",
   "execution_count": 73,
   "metadata": {},
   "outputs": [
    {
     "data": {
      "text/plain": [
       "'/home/rdzudzar/Documents/Code_review/Plots/plot.html'"
      ]
     },
     "execution_count": 73,
     "metadata": {},
     "output_type": "execute_result"
    }
   ],
   "source": [
    "from bokeh.io import output_file, show\n",
    "output_file(\"plot.html\")\n",
    "save(p)"
   ]
  },
  {
   "cell_type": "markdown",
   "metadata": {},
   "source": [
    "# Mike drop."
   ]
  },
  {
   "cell_type": "code",
   "execution_count": null,
   "metadata": {
    "collapsed": true
   },
   "outputs": [],
   "source": []
  }
 ],
 "metadata": {
  "kernelspec": {
   "display_name": "Python 3",
   "language": "python",
   "name": "python3"
  },
  "language_info": {
   "codemirror_mode": {
    "name": "ipython",
    "version": 3
   },
   "file_extension": ".py",
   "mimetype": "text/x-python",
   "name": "python",
   "nbconvert_exporter": "python",
   "pygments_lexer": "ipython3",
   "version": "3.6.3"
  }
 },
 "nbformat": 4,
 "nbformat_minor": 2
}
